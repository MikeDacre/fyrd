{
 "cells": [
  {
   "cell_type": "code",
   "execution_count": 1,
   "metadata": {
    "collapsed": true
   },
   "outputs": [],
   "source": [
    "import multiprocessing as mp\n",
    "from time import sleep\n",
    "from queue import Empty\n",
    "import sys"
   ]
  },
  {
   "cell_type": "code",
   "execution_count": 2,
   "metadata": {
    "collapsed": false
   },
   "outputs": [],
   "source": [
    "def job_runner(cores, jobqueue, outputs):\n",
    "    \"\"\"\n",
    "    jobs: [(command, args)]\n",
    "    outputs: {id: retval}\n",
    "    \"\"\"\n",
    "    import sys\n",
    "    jobno = 0\n",
    "    jobs = {}\n",
    "    done = []\n",
    "    while True:\n",
    "        try:\n",
    "            fun_args = jobqueue.get_nowait()\n",
    "            if len(fun_args) == 1:\n",
    "                function = fun_args[0]\n",
    "                args = None\n",
    "                depends = None\n",
    "            elif len(fun_args) == 2:\n",
    "                function, args = fun_args\n",
    "                depends = None\n",
    "            elif len(fun_args) == 3:\n",
    "                function, args, depends = fun_args\n",
    "            else:\n",
    "                continue\n",
    "            jobno += 1\n",
    "            jobs[jobno] = {'func': function, 'args': args, 'depends': depends, 'done': False, 'out': None,\n",
    "                           'started': False}\n",
    "            outputs.put(jobs.copy())\n",
    "        except Empty:\n",
    "            pass\n",
    "        if jobs:\n",
    "            for jobno, job_info in jobs.items():\n",
    "                if job_info['done']:\n",
    "                    continue\n",
    "                ready = True\n",
    "                if job_info['depends']:\n",
    "                    for depend in job_info['depends']:\n",
    "                        if not depend in done:\n",
    "                            ready = False\n",
    "                if ready:\n",
    "                    if job_info['args']:\n",
    "                        job_info['out'] = job_info['func'](job_info['args'])\n",
    "                    else:\n",
    "                        job_info['out'] = job_info['func']()\n",
    "                    job_info['started'] = True\n",
    "                    job_info['done'] = True\n",
    "                    done.append(jobno)\n",
    "                    if job_info['depends']:\n",
    "                        outputs.put(jobs.copy())\n",
    "        sleep(1)"
   ]
  },
  {
   "cell_type": "code",
   "execution_count": 3,
   "metadata": {
    "collapsed": false
   },
   "outputs": [],
   "source": [
    "def jon(string='bob'):\n",
    "    return 'hi ' + string"
   ]
  },
  {
   "cell_type": "code",
   "execution_count": 4,
   "metadata": {
    "collapsed": false
   },
   "outputs": [],
   "source": [
    "queue = mp.Queue()\n",
    "outqueue = mp.Queue()"
   ]
  },
  {
   "cell_type": "code",
   "execution_count": 5,
   "metadata": {
    "collapsed": false
   },
   "outputs": [],
   "source": [
    "runner = mp.Process(target=job_runner, args=(3, queue, outqueue))"
   ]
  },
  {
   "cell_type": "code",
   "execution_count": 6,
   "metadata": {
    "collapsed": false
   },
   "outputs": [],
   "source": [
    "runner.start()"
   ]
  },
  {
   "cell_type": "code",
   "execution_count": 7,
   "metadata": {
    "collapsed": false
   },
   "outputs": [
    {
     "data": {
      "text/plain": [
       "True"
      ]
     },
     "execution_count": 7,
     "metadata": {},
     "output_type": "execute_result"
    }
   ],
   "source": [
    "queue.empty()"
   ]
  },
  {
   "cell_type": "code",
   "execution_count": 8,
   "metadata": {
    "collapsed": false
   },
   "outputs": [
    {
     "data": {
      "text/plain": [
       "True"
      ]
     },
     "execution_count": 8,
     "metadata": {},
     "output_type": "execute_result"
    }
   ],
   "source": [
    "outqueue.empty()"
   ]
  },
  {
   "cell_type": "code",
   "execution_count": 9,
   "metadata": {
    "collapsed": false
   },
   "outputs": [
    {
     "data": {
      "text/plain": [
       "True"
      ]
     },
     "execution_count": 9,
     "metadata": {},
     "output_type": "execute_result"
    }
   ],
   "source": [
    "runner.is_alive()"
   ]
  },
  {
   "cell_type": "code",
   "execution_count": 10,
   "metadata": {
    "collapsed": true
   },
   "outputs": [],
   "source": [
    "queue.put([jon, 'fred', None])"
   ]
  },
  {
   "cell_type": "code",
   "execution_count": 11,
   "metadata": {
    "collapsed": false
   },
   "outputs": [],
   "source": [
    "outdict = {}"
   ]
  },
  {
   "cell_type": "code",
   "execution_count": 12,
   "metadata": {
    "collapsed": false
   },
   "outputs": [],
   "source": [
    "sleep(2)\n",
    "try:\n",
    "    j = outqueue.get_nowait()\n",
    "except Empty as e:\n",
    "    print(repr(e))"
   ]
  },
  {
   "cell_type": "code",
   "execution_count": 13,
   "metadata": {
    "collapsed": false
   },
   "outputs": [
    {
     "data": {
      "text/plain": [
       "{1: {'args': 'fred',\n",
       "  'depends': None,\n",
       "  'done': True,\n",
       "  'func': <function __main__.jon>,\n",
       "  'out': 'hi fred',\n",
       "  'started': True}}"
      ]
     },
     "execution_count": 13,
     "metadata": {},
     "output_type": "execute_result"
    }
   ],
   "source": [
    "j"
   ]
  },
  {
   "cell_type": "code",
   "execution_count": 14,
   "metadata": {
    "collapsed": false
   },
   "outputs": [],
   "source": [
    "if j:\n",
    "    outdict.update(j)"
   ]
  },
  {
   "cell_type": "code",
   "execution_count": 15,
   "metadata": {
    "collapsed": false
   },
   "outputs": [
    {
     "data": {
      "text/plain": [
       "{1: {'args': 'fred',\n",
       "  'depends': None,\n",
       "  'done': True,\n",
       "  'func': <function __main__.jon>,\n",
       "  'out': 'hi fred',\n",
       "  'started': True}}"
      ]
     },
     "execution_count": 15,
     "metadata": {},
     "output_type": "execute_result"
    }
   ],
   "source": [
    "outdict"
   ]
  },
  {
   "cell_type": "code",
   "execution_count": 16,
   "metadata": {
    "collapsed": true
   },
   "outputs": [],
   "source": [
    "queue.put([jon, 'bob', [4]])"
   ]
  },
  {
   "cell_type": "code",
   "execution_count": 17,
   "metadata": {
    "collapsed": false
   },
   "outputs": [],
   "source": [
    "queue.put([jon, 'joe', None])"
   ]
  },
  {
   "cell_type": "code",
   "execution_count": 18,
   "metadata": {
    "collapsed": false
   },
   "outputs": [],
   "source": [
    "sleep(1)\n",
    "j = outqueue.get_nowait()"
   ]
  },
  {
   "cell_type": "code",
   "execution_count": 19,
   "metadata": {
    "collapsed": false
   },
   "outputs": [],
   "source": [
    "if j:\n",
    "    outdict.update(j)"
   ]
  },
  {
   "cell_type": "code",
   "execution_count": 20,
   "metadata": {
    "collapsed": false
   },
   "outputs": [
    {
     "data": {
      "text/plain": [
       "{1: {'args': 'fred',\n",
       "  'depends': None,\n",
       "  'done': True,\n",
       "  'func': <function __main__.jon>,\n",
       "  'out': 'hi fred',\n",
       "  'started': True},\n",
       " 2: {'args': 'bob',\n",
       "  'depends': [4],\n",
       "  'done': False,\n",
       "  'func': <function __main__.jon>,\n",
       "  'out': None,\n",
       "  'started': False}}"
      ]
     },
     "execution_count": 20,
     "metadata": {},
     "output_type": "execute_result"
    }
   ],
   "source": [
    "outdict"
   ]
  },
  {
   "cell_type": "markdown",
   "metadata": {},
   "source": [
    "Note that the get command only gets the first dictionary in the stack, it needs to be run twice if two commands are put."
   ]
  },
  {
   "cell_type": "code",
   "execution_count": 21,
   "metadata": {
    "collapsed": false
   },
   "outputs": [],
   "source": [
    "sleep(1)\n",
    "j = outqueue.get_nowait()"
   ]
  },
  {
   "cell_type": "code",
   "execution_count": 22,
   "metadata": {
    "collapsed": false
   },
   "outputs": [],
   "source": [
    "if j:\n",
    "    outdict.update(j)"
   ]
  },
  {
   "cell_type": "code",
   "execution_count": 23,
   "metadata": {
    "collapsed": false
   },
   "outputs": [
    {
     "data": {
      "text/plain": [
       "{1: {'args': 'fred',\n",
       "  'depends': None,\n",
       "  'done': True,\n",
       "  'func': <function __main__.jon>,\n",
       "  'out': 'hi fred',\n",
       "  'started': True},\n",
       " 2: {'args': 'bob',\n",
       "  'depends': [4],\n",
       "  'done': False,\n",
       "  'func': <function __main__.jon>,\n",
       "  'out': None,\n",
       "  'started': False},\n",
       " 3: {'args': 'joe',\n",
       "  'depends': None,\n",
       "  'done': True,\n",
       "  'func': <function __main__.jon>,\n",
       "  'out': 'hi joe',\n",
       "  'started': True}}"
      ]
     },
     "execution_count": 23,
     "metadata": {},
     "output_type": "execute_result"
    }
   ],
   "source": [
    "outdict"
   ]
  },
  {
   "cell_type": "code",
   "execution_count": 24,
   "metadata": {
    "collapsed": true
   },
   "outputs": [],
   "source": [
    "queue.put([jon, 'done', None])"
   ]
  },
  {
   "cell_type": "code",
   "execution_count": 25,
   "metadata": {
    "collapsed": false
   },
   "outputs": [],
   "source": [
    "sleep(2)\n",
    "j = outqueue.get_nowait()"
   ]
  },
  {
   "cell_type": "code",
   "execution_count": 26,
   "metadata": {
    "collapsed": false
   },
   "outputs": [],
   "source": [
    "if j:\n",
    "    outdict.update(j)"
   ]
  },
  {
   "cell_type": "code",
   "execution_count": 27,
   "metadata": {
    "collapsed": false,
    "scrolled": true
   },
   "outputs": [
    {
     "data": {
      "text/plain": [
       "{1: {'args': 'fred',\n",
       "  'depends': None,\n",
       "  'done': True,\n",
       "  'func': <function __main__.jon>,\n",
       "  'out': 'hi fred',\n",
       "  'started': True},\n",
       " 2: {'args': 'bob',\n",
       "  'depends': [4],\n",
       "  'done': False,\n",
       "  'func': <function __main__.jon>,\n",
       "  'out': None,\n",
       "  'started': False},\n",
       " 3: {'args': 'joe',\n",
       "  'depends': None,\n",
       "  'done': True,\n",
       "  'func': <function __main__.jon>,\n",
       "  'out': 'hi joe',\n",
       "  'started': True},\n",
       " 4: {'args': 'done',\n",
       "  'depends': None,\n",
       "  'done': True,\n",
       "  'func': <function __main__.jon>,\n",
       "  'out': 'hi done',\n",
       "  'started': True}}"
      ]
     },
     "execution_count": 27,
     "metadata": {},
     "output_type": "execute_result"
    }
   ],
   "source": [
    "outdict"
   ]
  },
  {
   "cell_type": "markdown",
   "metadata": {},
   "source": [
    "Note that job 2 has not completed."
   ]
  },
  {
   "cell_type": "code",
   "execution_count": 28,
   "metadata": {
    "collapsed": false
   },
   "outputs": [],
   "source": [
    "sleep(2)\n",
    "j = outqueue.get_nowait()"
   ]
  },
  {
   "cell_type": "code",
   "execution_count": 29,
   "metadata": {
    "collapsed": false
   },
   "outputs": [],
   "source": [
    "if j:\n",
    "    outdict.update(j)"
   ]
  },
  {
   "cell_type": "code",
   "execution_count": 30,
   "metadata": {
    "collapsed": false,
    "scrolled": true
   },
   "outputs": [
    {
     "data": {
      "text/plain": [
       "{1: {'args': 'fred',\n",
       "  'depends': None,\n",
       "  'done': True,\n",
       "  'func': <function __main__.jon>,\n",
       "  'out': 'hi fred',\n",
       "  'started': True},\n",
       " 2: {'args': 'bob',\n",
       "  'depends': [4],\n",
       "  'done': True,\n",
       "  'func': <function __main__.jon>,\n",
       "  'out': 'hi bob',\n",
       "  'started': True},\n",
       " 3: {'args': 'joe',\n",
       "  'depends': None,\n",
       "  'done': True,\n",
       "  'func': <function __main__.jon>,\n",
       "  'out': 'hi joe',\n",
       "  'started': True},\n",
       " 4: {'args': 'done',\n",
       "  'depends': None,\n",
       "  'done': True,\n",
       "  'func': <function __main__.jon>,\n",
       "  'out': 'hi done',\n",
       "  'started': True}}"
      ]
     },
     "execution_count": 30,
     "metadata": {},
     "output_type": "execute_result"
    }
   ],
   "source": [
    "outdict"
   ]
  },
  {
   "cell_type": "markdown",
   "metadata": {},
   "source": [
    "Now it has though, we needed to get it a second time, as one get only fetches one successful loop."
   ]
  },
  {
   "cell_type": "markdown",
   "metadata": {},
   "source": [
    "Same exact idea with pool instead of direct running\n",
    "==================================================="
   ]
  },
  {
   "cell_type": "code",
   "execution_count": 31,
   "metadata": {
    "collapsed": false
   },
   "outputs": [],
   "source": [
    "def job_runner(cores, jobqueue, outputs):\n",
    "    \"\"\"\n",
    "    jobs: [(command, args)]\n",
    "    outputs: {id: retval}\n",
    "    \"\"\"\n",
    "    import sys\n",
    "    jobno = 0\n",
    "    jobs = {}\n",
    "    runners = {}\n",
    "    done = []\n",
    "    pool = mp.Pool()\n",
    "    while True:\n",
    "        try:\n",
    "            fun_args = jobqueue.get_nowait()\n",
    "            if len(fun_args) == 1:\n",
    "                function = fun_args[0]\n",
    "                args = None\n",
    "                depends = None\n",
    "            elif len(fun_args) == 2:\n",
    "                function, args = fun_args\n",
    "                depends = None\n",
    "            elif len(fun_args) == 3:\n",
    "                function, args, depends = fun_args\n",
    "            else:\n",
    "                continue\n",
    "            jobno += 1\n",
    "            jobs[jobno] = {'func': function, 'args': args, 'depends': depends, 'done': False, 'out': None,\n",
    "                           'started': False}\n",
    "            outputs.put(jobs.copy())\n",
    "        except Empty:\n",
    "            pass\n",
    "        if jobs:\n",
    "            for jobno, job_info in jobs.items():\n",
    "                if job_info['done']:\n",
    "                    continue\n",
    "                ready = True\n",
    "                if job_info['depends']:\n",
    "                    for depend in job_info['depends']:\n",
    "                        if not depend in done:\n",
    "                            ready = False\n",
    "                if ready:\n",
    "                    if job_info['args']:\n",
    "                        runners[jobno] = pool.apply_async(job_info['func'], (job_info['args'],))\n",
    "                    else:\n",
    "                        runners[jobno] = pool.apply_async(job_info['func'])\n",
    "                    job_info['started'] = True\n",
    "                if job_info['started'] and runners[jobno].ready():\n",
    "                    job_info['out'] = runners[jobno].join()\n",
    "                    job_info['done'] = True\n",
    "                    done.append(jobno)\n",
    "                    outputs.put(jobs.copy())\n",
    "                    #if job_info['depends']:\n",
    "                    #    outputs.put(jobs.copy())\n",
    "        sleep(1)"
   ]
  },
  {
   "cell_type": "code",
   "execution_count": 32,
   "metadata": {
    "collapsed": false
   },
   "outputs": [],
   "source": [
    "queue = mp.Queue()\n",
    "outqueue = mp.Queue()"
   ]
  },
  {
   "cell_type": "code",
   "execution_count": 33,
   "metadata": {
    "collapsed": false
   },
   "outputs": [],
   "source": [
    "runner = mp.Process(target=job_runner, args=(3, queue, outqueue))"
   ]
  },
  {
   "cell_type": "code",
   "execution_count": 34,
   "metadata": {
    "collapsed": false
   },
   "outputs": [],
   "source": [
    "runner.start()"
   ]
  },
  {
   "cell_type": "code",
   "execution_count": 35,
   "metadata": {
    "collapsed": false
   },
   "outputs": [
    {
     "data": {
      "text/plain": [
       "True"
      ]
     },
     "execution_count": 35,
     "metadata": {},
     "output_type": "execute_result"
    }
   ],
   "source": [
    "queue.empty()"
   ]
  },
  {
   "cell_type": "code",
   "execution_count": 36,
   "metadata": {
    "collapsed": false
   },
   "outputs": [
    {
     "data": {
      "text/plain": [
       "True"
      ]
     },
     "execution_count": 36,
     "metadata": {},
     "output_type": "execute_result"
    }
   ],
   "source": [
    "outqueue.empty()"
   ]
  },
  {
   "cell_type": "code",
   "execution_count": 37,
   "metadata": {
    "collapsed": false
   },
   "outputs": [
    {
     "data": {
      "text/plain": [
       "True"
      ]
     },
     "execution_count": 37,
     "metadata": {},
     "output_type": "execute_result"
    }
   ],
   "source": [
    "runner.is_alive()"
   ]
  },
  {
   "cell_type": "code",
   "execution_count": 38,
   "metadata": {
    "collapsed": true
   },
   "outputs": [],
   "source": [
    "queue.put([jon, 'fred', None])"
   ]
  },
  {
   "cell_type": "code",
   "execution_count": 39,
   "metadata": {
    "collapsed": false
   },
   "outputs": [],
   "source": [
    "outdict = {}"
   ]
  },
  {
   "cell_type": "code",
   "execution_count": 40,
   "metadata": {
    "collapsed": false
   },
   "outputs": [],
   "source": [
    "sleep(2)\n",
    "try:\n",
    "    j = outqueue.get_nowait()\n",
    "except Empty as e:\n",
    "    print(e)"
   ]
  },
  {
   "cell_type": "code",
   "execution_count": 41,
   "metadata": {
    "collapsed": false
   },
   "outputs": [
    {
     "data": {
      "text/plain": [
       "{1: {'args': 'fred',\n",
       "  'depends': None,\n",
       "  'done': False,\n",
       "  'func': <function __main__.jon>,\n",
       "  'out': None,\n",
       "  'started': True}}"
      ]
     },
     "execution_count": 41,
     "metadata": {},
     "output_type": "execute_result"
    }
   ],
   "source": [
    "j"
   ]
  },
  {
   "cell_type": "code",
   "execution_count": 43,
   "metadata": {
    "collapsed": false
   },
   "outputs": [],
   "source": [
    "if j:\n",
    "    outdict.update(j)"
   ]
  },
  {
   "cell_type": "code",
   "execution_count": 44,
   "metadata": {
    "collapsed": false
   },
   "outputs": [
    {
     "data": {
      "text/plain": [
       "{1: {'args': 'fred',\n",
       "  'depends': None,\n",
       "  'done': False,\n",
       "  'func': <function __main__.jon>,\n",
       "  'out': None,\n",
       "  'started': True}}"
      ]
     },
     "execution_count": 44,
     "metadata": {},
     "output_type": "execute_result"
    }
   ],
   "source": [
    "outdict"
   ]
  },
  {
   "cell_type": "markdown",
   "metadata": {},
   "source": [
    "Unexpected behavior\n",
    "-------------------\n",
    "\n",
    "That should have completed, but it didn't, let's try to get a second time to see if it worked yet."
   ]
  },
  {
   "cell_type": "code",
   "execution_count": 45,
   "metadata": {
    "collapsed": false
   },
   "outputs": [
    {
     "name": "stdout",
     "output_type": "stream",
     "text": [
      "\n"
     ]
    }
   ],
   "source": [
    "sleep(2)\n",
    "try:\n",
    "    j = outqueue.get_nowait()\n",
    "except Empty as e:\n",
    "    print(e)"
   ]
  },
  {
   "cell_type": "code",
   "execution_count": 46,
   "metadata": {
    "collapsed": false,
    "scrolled": true
   },
   "outputs": [
    {
     "data": {
      "text/plain": [
       "{1: {'args': 'fred',\n",
       "  'depends': None,\n",
       "  'done': False,\n",
       "  'func': <function __main__.jon>,\n",
       "  'out': None,\n",
       "  'started': True}}"
      ]
     },
     "execution_count": 46,
     "metadata": {},
     "output_type": "execute_result"
    }
   ],
   "source": [
    "j"
   ]
  },
  {
   "cell_type": "markdown",
   "metadata": {},
   "source": [
    "**Nope**\n",
    "Still isn't completing *why*?"
   ]
  },
  {
   "cell_type": "code",
   "execution_count": 47,
   "metadata": {
    "collapsed": true
   },
   "outputs": [],
   "source": [
    "queue.put([jon, 'bob', [4]])"
   ]
  },
  {
   "cell_type": "code",
   "execution_count": 48,
   "metadata": {
    "collapsed": false
   },
   "outputs": [],
   "source": [
    "queue.put([jon, 'joe', None])"
   ]
  },
  {
   "cell_type": "code",
   "execution_count": 49,
   "metadata": {
    "collapsed": false
   },
   "outputs": [],
   "source": [
    "sleep(1)\n",
    "j = outqueue.get_nowait()"
   ]
  },
  {
   "cell_type": "code",
   "execution_count": 50,
   "metadata": {
    "collapsed": false
   },
   "outputs": [],
   "source": [
    "if j:\n",
    "    outdict.update(j)"
   ]
  },
  {
   "cell_type": "code",
   "execution_count": 51,
   "metadata": {
    "collapsed": false
   },
   "outputs": [
    {
     "data": {
      "text/plain": [
       "{1: {'args': 'fred',\n",
       "  'depends': None,\n",
       "  'done': False,\n",
       "  'func': <function __main__.jon>,\n",
       "  'out': None,\n",
       "  'started': True},\n",
       " 2: {'args': 'bob',\n",
       "  'depends': [4],\n",
       "  'done': False,\n",
       "  'func': <function __main__.jon>,\n",
       "  'out': None,\n",
       "  'started': False}}"
      ]
     },
     "execution_count": 51,
     "metadata": {},
     "output_type": "execute_result"
    }
   ],
   "source": [
    "outdict"
   ]
  },
  {
   "cell_type": "markdown",
   "metadata": {},
   "source": [
    "It worked here once... but it isn't anymore. I am not sure why. Even after though, it was overwritten with the incomplete entry... maybe the dictionary copying is part of the issue?"
   ]
  },
  {
   "cell_type": "code",
   "execution_count": 52,
   "metadata": {
    "collapsed": false
   },
   "outputs": [],
   "source": [
    "sleep(2)\n",
    "j = outqueue.get_nowait()"
   ]
  },
  {
   "cell_type": "code",
   "execution_count": 53,
   "metadata": {
    "collapsed": false
   },
   "outputs": [],
   "source": [
    "if j:\n",
    "    outdict.update(j)"
   ]
  },
  {
   "cell_type": "code",
   "execution_count": 54,
   "metadata": {
    "collapsed": false
   },
   "outputs": [
    {
     "data": {
      "text/plain": [
       "{1: {'args': 'fred',\n",
       "  'depends': None,\n",
       "  'done': False,\n",
       "  'func': <function __main__.jon>,\n",
       "  'out': None,\n",
       "  'started': True},\n",
       " 2: {'args': 'bob',\n",
       "  'depends': [4],\n",
       "  'done': False,\n",
       "  'func': <function __main__.jon>,\n",
       "  'out': None,\n",
       "  'started': False},\n",
       " 3: {'args': 'joe',\n",
       "  'depends': None,\n",
       "  'done': False,\n",
       "  'func': <function __main__.jon>,\n",
       "  'out': None,\n",
       "  'started': True}}"
      ]
     },
     "execution_count": 54,
     "metadata": {},
     "output_type": "execute_result"
    }
   ],
   "source": [
    "outdict"
   ]
  },
  {
   "cell_type": "markdown",
   "metadata": {},
   "source": [
    "Unexpected behavior\n",
    "-------------------\n",
    "We have *reverted* back to the prior dictionary... the completed info for job 1 is gone."
   ]
  },
  {
   "cell_type": "code",
   "execution_count": 55,
   "metadata": {
    "collapsed": true
   },
   "outputs": [],
   "source": [
    "queue.put([jon, 'done', None])"
   ]
  },
  {
   "cell_type": "code",
   "execution_count": 56,
   "metadata": {
    "collapsed": false
   },
   "outputs": [],
   "source": [
    "sleep(2)\n",
    "j = outqueue.get_nowait()"
   ]
  },
  {
   "cell_type": "code",
   "execution_count": 57,
   "metadata": {
    "collapsed": false
   },
   "outputs": [],
   "source": [
    "if j:\n",
    "    outdict.update(j)"
   ]
  },
  {
   "cell_type": "code",
   "execution_count": 58,
   "metadata": {
    "collapsed": false,
    "scrolled": true
   },
   "outputs": [
    {
     "data": {
      "text/plain": [
       "{1: {'args': 'fred',\n",
       "  'depends': None,\n",
       "  'done': False,\n",
       "  'func': <function __main__.jon>,\n",
       "  'out': None,\n",
       "  'started': True},\n",
       " 2: {'args': 'bob',\n",
       "  'depends': [4],\n",
       "  'done': False,\n",
       "  'func': <function __main__.jon>,\n",
       "  'out': None,\n",
       "  'started': False},\n",
       " 3: {'args': 'joe',\n",
       "  'depends': None,\n",
       "  'done': False,\n",
       "  'func': <function __main__.jon>,\n",
       "  'out': None,\n",
       "  'started': True},\n",
       " 4: {'args': 'done',\n",
       "  'depends': None,\n",
       "  'done': False,\n",
       "  'func': <function __main__.jon>,\n",
       "  'out': None,\n",
       "  'started': True}}"
      ]
     },
     "execution_count": 58,
     "metadata": {},
     "output_type": "execute_result"
    }
   ],
   "source": [
    "outdict"
   ]
  },
  {
   "cell_type": "markdown",
   "metadata": {},
   "source": [
    "No jobs have completed now..."
   ]
  },
  {
   "cell_type": "code",
   "execution_count": 59,
   "metadata": {
    "collapsed": false,
    "scrolled": true
   },
   "outputs": [
    {
     "name": "stdout",
     "output_type": "stream",
     "text": [
      "Empty()\n"
     ]
    }
   ],
   "source": [
    "sleep(2)\n",
    "try:\n",
    "    j = outqueue.get_nowait()\n",
    "except Empty as e:\n",
    "    print(repr(e))"
   ]
  },
  {
   "cell_type": "code",
   "execution_count": 60,
   "metadata": {
    "collapsed": false,
    "scrolled": false
   },
   "outputs": [
    {
     "data": {
      "text/plain": [
       "{1: {'args': 'fred',\n",
       "  'depends': None,\n",
       "  'done': False,\n",
       "  'func': <function __main__.jon>,\n",
       "  'out': None,\n",
       "  'started': True},\n",
       " 2: {'args': 'bob',\n",
       "  'depends': [4],\n",
       "  'done': False,\n",
       "  'func': <function __main__.jon>,\n",
       "  'out': None,\n",
       "  'started': False},\n",
       " 3: {'args': 'joe',\n",
       "  'depends': None,\n",
       "  'done': False,\n",
       "  'func': <function __main__.jon>,\n",
       "  'out': None,\n",
       "  'started': True},\n",
       " 4: {'args': 'done',\n",
       "  'depends': None,\n",
       "  'done': False,\n",
       "  'func': <function __main__.jon>,\n",
       "  'out': None,\n",
       "  'started': True}}"
      ]
     },
     "execution_count": 60,
     "metadata": {},
     "output_type": "execute_result"
    }
   ],
   "source": [
    "j"
   ]
  },
  {
   "cell_type": "markdown",
   "metadata": {},
   "source": [
    "Let's try again, but this time doing a clever dictionary update, no copying\n",
    "---------------------------------------------------------------------------"
   ]
  },
  {
   "cell_type": "code",
   "execution_count": 191,
   "metadata": {
    "collapsed": false
   },
   "outputs": [],
   "source": [
    "def job_runner(cores, jobqueue, outputs):\n",
    "    \"\"\"\n",
    "    jobs: [(command, args)]\n",
    "    outputs: {id: retval}\n",
    "    \"\"\"\n",
    "    import sys\n",
    "    from copy import deepcopy\n",
    "    def output(out):\n",
    "        \"\"\"Let's try and explicitly clear the dictionary before sending the output.\"\"\"\n",
    "        while not outputs.empty():\n",
    "            # Clear the output object\n",
    "            outputs.get()\n",
    "        outputs.put(deepcopy(out))\n",
    "    jobno = 0\n",
    "    jobs = {}\n",
    "    runners = {}\n",
    "    done = []\n",
    "    pool = mp.Pool()\n",
    "    while True:\n",
    "        try:\n",
    "            fun_args = jobqueue.get_nowait()\n",
    "            if len(fun_args) == 1:\n",
    "                function = fun_args[0]\n",
    "                args = None\n",
    "                depends = None\n",
    "            elif len(fun_args) == 2:\n",
    "                function, args = fun_args\n",
    "                depends = None\n",
    "            elif len(fun_args) == 3:\n",
    "                function, args, depends = fun_args\n",
    "            else:\n",
    "                continue\n",
    "            jobno += 1\n",
    "            jobs[jobno] = {'func': function, 'args': args, 'depends': depends, 'done': False, 'out': None,\n",
    "                           'started': False}\n",
    "            output(jobs)\n",
    "        except Empty:\n",
    "            pass\n",
    "        if jobs:\n",
    "            for jobno, job_info in jobs.items():\n",
    "                if job_info['done']:\n",
    "                    continue\n",
    "                ready = True\n",
    "                if job_info['depends']:\n",
    "                    for depend in job_info['depends']:\n",
    "                        if not depend in done:\n",
    "                            ready = False\n",
    "                if ready:\n",
    "                    if job_info['args']:\n",
    "                        runners[jobno] = pool.apply_async(job_info['func'], (job_info['args'],))\n",
    "                    else:\n",
    "                        runners[jobno] = pool.apply_async(job_info['func'])\n",
    "                    job_info['started'] = True\n",
    "                    output(jobs)\n",
    "                if job_info['started'] and not job_info['done'] and runners[jobno].ready():\n",
    "                    job_info['out'] = runners[jobno].get()\n",
    "                    job_info['done'] = True\n",
    "                    done.append(jobno)\n",
    "                    output(jobs)\n",
    "                    #if job_info['depends']:\n",
    "                    #    outputs.put(jobs.copy())\n",
    "        sleep(1)"
   ]
  },
  {
   "cell_type": "code",
   "execution_count": 192,
   "metadata": {
    "collapsed": false
   },
   "outputs": [],
   "source": [
    "queue = mp.Queue()\n",
    "outqueue = mp.Queue()"
   ]
  },
  {
   "cell_type": "code",
   "execution_count": 193,
   "metadata": {
    "collapsed": false
   },
   "outputs": [],
   "source": [
    "runner = mp.Process(target=job_runner, args=(3, queue, outqueue))"
   ]
  },
  {
   "cell_type": "code",
   "execution_count": 194,
   "metadata": {
    "collapsed": false
   },
   "outputs": [],
   "source": [
    "runner.start()"
   ]
  },
  {
   "cell_type": "code",
   "execution_count": 195,
   "metadata": {
    "collapsed": false
   },
   "outputs": [
    {
     "data": {
      "text/plain": [
       "True"
      ]
     },
     "execution_count": 195,
     "metadata": {},
     "output_type": "execute_result"
    }
   ],
   "source": [
    "queue.empty()"
   ]
  },
  {
   "cell_type": "code",
   "execution_count": 196,
   "metadata": {
    "collapsed": false
   },
   "outputs": [
    {
     "data": {
      "text/plain": [
       "True"
      ]
     },
     "execution_count": 196,
     "metadata": {},
     "output_type": "execute_result"
    }
   ],
   "source": [
    "outqueue.empty()"
   ]
  },
  {
   "cell_type": "code",
   "execution_count": 197,
   "metadata": {
    "collapsed": false
   },
   "outputs": [
    {
     "data": {
      "text/plain": [
       "True"
      ]
     },
     "execution_count": 197,
     "metadata": {},
     "output_type": "execute_result"
    }
   ],
   "source": [
    "runner.is_alive()"
   ]
  },
  {
   "cell_type": "code",
   "execution_count": 198,
   "metadata": {
    "collapsed": true
   },
   "outputs": [],
   "source": [
    "queue.put([jon, 'fred', None])"
   ]
  },
  {
   "cell_type": "code",
   "execution_count": 199,
   "metadata": {
    "collapsed": false
   },
   "outputs": [],
   "source": [
    "j = outqueue.get_nowait()"
   ]
  },
  {
   "cell_type": "code",
   "execution_count": 200,
   "metadata": {
    "collapsed": false,
    "scrolled": true
   },
   "outputs": [
    {
     "data": {
      "text/plain": [
       "{1: {'args': 'fred',\n",
       "  'depends': None,\n",
       "  'done': False,\n",
       "  'func': <function __main__.jon>,\n",
       "  'out': None,\n",
       "  'started': False}}"
      ]
     },
     "execution_count": 200,
     "metadata": {},
     "output_type": "execute_result"
    }
   ],
   "source": [
    "j"
   ]
  },
  {
   "cell_type": "code",
   "execution_count": 201,
   "metadata": {
    "collapsed": false,
    "scrolled": true
   },
   "outputs": [
    {
     "name": "stdout",
     "output_type": "stream",
     "text": [
      "1 {1: {'args': 'fred', 'out': None, 'func': <function jon at 0x10c7b6d08>, 'depends': None, 'done': False, 'started': True}}\n",
      "1 {1: {'args': 'fred', 'out': 'hi fred', 'func': <function jon at 0x10c7b6d08>, 'depends': None, 'done': True, 'started': True}}\n"
     ]
    }
   ],
   "source": [
    "count = 1\n",
    "while not outqueue.empty():\n",
    "    print(count, outqueue.get_nowait())"
   ]
  },
  {
   "cell_type": "markdown",
   "metadata": {},
   "source": [
    "It works now!"
   ]
  },
  {
   "cell_type": "code",
   "execution_count": 202,
   "metadata": {
    "collapsed": true
   },
   "outputs": [],
   "source": [
    "queue.put([jon, 'bob', [4]])"
   ]
  },
  {
   "cell_type": "code",
   "execution_count": 203,
   "metadata": {
    "collapsed": false
   },
   "outputs": [],
   "source": [
    "queue.put([jon, 'joe', None])"
   ]
  },
  {
   "cell_type": "code",
   "execution_count": 204,
   "metadata": {
    "collapsed": false
   },
   "outputs": [],
   "source": [
    "sleep(1)\n",
    "j = outqueue.get_nowait()"
   ]
  },
  {
   "cell_type": "code",
   "execution_count": 205,
   "metadata": {
    "collapsed": false
   },
   "outputs": [
    {
     "data": {
      "text/plain": [
       "{1: {'args': 'fred',\n",
       "  'depends': None,\n",
       "  'done': True,\n",
       "  'func': <function __main__.jon>,\n",
       "  'out': 'hi fred',\n",
       "  'started': True},\n",
       " 2: {'args': 'bob',\n",
       "  'depends': [4],\n",
       "  'done': False,\n",
       "  'func': <function __main__.jon>,\n",
       "  'out': None,\n",
       "  'started': False},\n",
       " 3: {'args': 'joe',\n",
       "  'depends': None,\n",
       "  'done': False,\n",
       "  'func': <function __main__.jon>,\n",
       "  'out': None,\n",
       "  'started': True}}"
      ]
     },
     "execution_count": 205,
     "metadata": {},
     "output_type": "execute_result"
    }
   ],
   "source": [
    "j"
   ]
  },
  {
   "cell_type": "code",
   "execution_count": 206,
   "metadata": {
    "collapsed": false
   },
   "outputs": [],
   "source": [
    "sleep(1)\n",
    "j = outqueue.get_nowait()"
   ]
  },
  {
   "cell_type": "code",
   "execution_count": 207,
   "metadata": {
    "collapsed": false,
    "scrolled": true
   },
   "outputs": [
    {
     "data": {
      "text/plain": [
       "{1: {'args': 'fred',\n",
       "  'depends': None,\n",
       "  'done': True,\n",
       "  'func': <function __main__.jon>,\n",
       "  'out': 'hi fred',\n",
       "  'started': True},\n",
       " 2: {'args': 'bob',\n",
       "  'depends': [4],\n",
       "  'done': False,\n",
       "  'func': <function __main__.jon>,\n",
       "  'out': None,\n",
       "  'started': False},\n",
       " 3: {'args': 'joe',\n",
       "  'depends': None,\n",
       "  'done': False,\n",
       "  'func': <function __main__.jon>,\n",
       "  'out': None,\n",
       "  'started': True}}"
      ]
     },
     "execution_count": 207,
     "metadata": {},
     "output_type": "execute_result"
    }
   ],
   "source": [
    "j"
   ]
  },
  {
   "cell_type": "code",
   "execution_count": 208,
   "metadata": {
    "collapsed": false,
    "scrolled": true
   },
   "outputs": [
    {
     "name": "stdout",
     "output_type": "stream",
     "text": [
      "1 {1: {'args': 'fred', 'out': 'hi fred', 'func': <function jon at 0x10c7b6d08>, 'depends': None, 'done': True, 'started': True}, 2: {'args': 'bob', 'out': None, 'func': <function jon at 0x10c7b6d08>, 'depends': [4], 'done': False, 'started': False}, 3: {'args': 'joe', 'out': 'hi joe', 'func': <function jon at 0x10c7b6d08>, 'depends': None, 'done': True, 'started': True}}\n"
     ]
    }
   ],
   "source": [
    "count = 1\n",
    "while not outqueue.empty():\n",
    "    j = outqueue.get_nowait()\n",
    "    print(count, j)"
   ]
  },
  {
   "cell_type": "code",
   "execution_count": 209,
   "metadata": {
    "collapsed": true
   },
   "outputs": [],
   "source": [
    "queue.put([jon, 'done', None])"
   ]
  },
  {
   "cell_type": "code",
   "execution_count": 210,
   "metadata": {
    "collapsed": false,
    "scrolled": true
   },
   "outputs": [
    {
     "name": "stdout",
     "output_type": "stream",
     "text": [
      "1 {1: {'args': 'fred', 'out': 'hi fred', 'func': <function jon at 0x10c7b6d08>, 'depends': None, 'done': True, 'started': True}, 2: {'args': 'bob', 'out': None, 'func': <function jon at 0x10c7b6d08>, 'depends': [4], 'done': False, 'started': False}, 3: {'args': 'joe', 'out': 'hi joe', 'func': <function jon at 0x10c7b6d08>, 'depends': None, 'done': True, 'started': True}, 4: {'args': 'done', 'out': None, 'func': <function jon at 0x10c7b6d08>, 'depends': None, 'done': False, 'started': True}}\n"
     ]
    }
   ],
   "source": [
    "count = 1\n",
    "while not outqueue.empty():\n",
    "    j = outqueue.get_nowait()\n",
    "    print(count, j)"
   ]
  },
  {
   "cell_type": "code",
   "execution_count": 211,
   "metadata": {
    "collapsed": false
   },
   "outputs": [],
   "source": [
    "sleep(2)\n",
    "j = outqueue.get_nowait()"
   ]
  },
  {
   "cell_type": "code",
   "execution_count": 213,
   "metadata": {
    "collapsed": false
   },
   "outputs": [
    {
     "data": {
      "text/plain": [
       "{1: {'args': 'fred',\n",
       "  'depends': None,\n",
       "  'done': True,\n",
       "  'func': <function __main__.jon>,\n",
       "  'out': 'hi fred',\n",
       "  'started': True},\n",
       " 2: {'args': 'bob',\n",
       "  'depends': [4],\n",
       "  'done': False,\n",
       "  'func': <function __main__.jon>,\n",
       "  'out': None,\n",
       "  'started': True},\n",
       " 3: {'args': 'joe',\n",
       "  'depends': None,\n",
       "  'done': True,\n",
       "  'func': <function __main__.jon>,\n",
       "  'out': 'hi joe',\n",
       "  'started': True},\n",
       " 4: {'args': 'done',\n",
       "  'depends': None,\n",
       "  'done': True,\n",
       "  'func': <function __main__.jon>,\n",
       "  'out': 'hi done',\n",
       "  'started': True}}"
      ]
     },
     "execution_count": 213,
     "metadata": {},
     "output_type": "execute_result"
    }
   ],
   "source": [
    "j"
   ]
  },
  {
   "cell_type": "markdown",
   "metadata": {},
   "source": [
    "Working now, but need to get the dictionary a bunch of times, almost continually."
   ]
  },
  {
   "cell_type": "code",
   "execution_count": 214,
   "metadata": {
    "collapsed": false
   },
   "outputs": [],
   "source": [
    "sleep(2)\n",
    "j = outqueue.get_nowait()"
   ]
  },
  {
   "cell_type": "code",
   "execution_count": 215,
   "metadata": {
    "collapsed": false
   },
   "outputs": [
    {
     "data": {
      "text/plain": [
       "{1: {'args': 'fred',\n",
       "  'depends': None,\n",
       "  'done': True,\n",
       "  'func': <function __main__.jon>,\n",
       "  'out': 'hi fred',\n",
       "  'started': True},\n",
       " 2: {'args': 'bob',\n",
       "  'depends': [4],\n",
       "  'done': True,\n",
       "  'func': <function __main__.jon>,\n",
       "  'out': 'hi bob',\n",
       "  'started': True},\n",
       " 3: {'args': 'joe',\n",
       "  'depends': None,\n",
       "  'done': True,\n",
       "  'func': <function __main__.jon>,\n",
       "  'out': 'hi joe',\n",
       "  'started': True},\n",
       " 4: {'args': 'done',\n",
       "  'depends': None,\n",
       "  'done': True,\n",
       "  'func': <function __main__.jon>,\n",
       "  'out': 'hi done',\n",
       "  'started': True}}"
      ]
     },
     "execution_count": 215,
     "metadata": {},
     "output_type": "execute_result"
    }
   ],
   "source": [
    "j"
   ]
  },
  {
   "cell_type": "markdown",
   "metadata": {},
   "source": [
    "OK, now it works, approximately.\n",
    "\n",
    "The below class is the outline of an idea and is not relevant to this example."
   ]
  },
  {
   "cell_type": "markdown",
   "metadata": {},
   "source": [
    "class Queue(object):\n",
    "       \n",
    "    def job_runner(pool, jobqueue, outputs):\n",
    "        \"\"\"\n",
    "        jobs: [(command, args)]\n",
    "        outputs: {id: retval}\n",
    "        \"\"\"\n",
    "        import sys\n",
    "        jobno = 0\n",
    "        outqueue = {}\n",
    "        jobs = {}\n",
    "        done = []\n",
    "        while True:\n",
    "            try:\n",
    "                fun_args = jobqueue.get_nowait()\n",
    "                function, args, depends \n",
    "                jobs[jobno] = {'func': function, 'args': args, 'depends': depends, 'done': False, 'out': None}\n",
    "                jobno += 1\n",
    "            except multiprocessing.Empty:\n",
    "                pass\n",
    "            if jobs:\n",
    "                for jobno, job_info in jobs.items():\n",
    "                    if job_info['depends']:\n",
    "                        ready = True\n",
    "                        for depend in depends:\n",
    "                            if not depend in done:\n",
    "                                ready = False\n",
    "                        if ready:\n",
    "                            job_info['out'] = job_info['func'](job_info['args'])\n",
    "                            job_info['done'] = True\n",
    "            output = function(args)\n",
    "            outputs.put(output)\n",
    "            sleep(1)\n",
    "            \n",
    "    def submit(self, func, args, depends):\n",
    "        pass\n",
    "        \n",
    "    def __init__(self):\n",
    "        self.queue = multiprocessing.Queue()\n",
    "        self.outqueue = multiprocessing.Queue()\n",
    "        self.pool = multiprocessing.Pool()\n",
    "        self.jobno = 0\n",
    "        self.jobs = {}\n",
    "        self.runner = multiprocessing.Process(target=job_runner, args=(self.pool, self.queue, self.outqueue))\n",
    "        "
   ]
  },
  {
   "cell_type": "code",
   "execution_count": null,
   "metadata": {
    "collapsed": true
   },
   "outputs": [],
   "source": []
  }
 ],
 "metadata": {
  "kernelspec": {
   "display_name": "Python 3",
   "language": "python",
   "name": "python3"
  },
  "language_info": {
   "codemirror_mode": {
    "name": "ipython",
    "version": 3
   },
   "file_extension": ".py",
   "mimetype": "text/x-python",
   "name": "python",
   "nbconvert_exporter": "python",
   "pygments_lexer": "ipython3",
   "version": "3.5.1"
  }
 },
 "nbformat": 4,
 "nbformat_minor": 0
}
