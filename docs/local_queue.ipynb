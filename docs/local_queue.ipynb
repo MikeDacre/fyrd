{
 "cells": [
  {
   "cell_type": "code",
   "execution_count": 1,
   "metadata": {
    "collapsed": true
   },
   "outputs": [],
   "source": [
    "import multiprocessing as mp\n",
    "from time import sleep\n",
    "from queue import Empty\n",
    "import sys"
   ]
  },
  {
   "cell_type": "code",
   "execution_count": 128,
   "metadata": {
    "collapsed": true
   },
   "outputs": [],
   "source": [
    "class Job(object):\n",
    "    def __init__(self, function, args=None, kwargs=None, depends=None):\n",
    "        self.function = function,\n",
    "        self.args = args\n",
    "        self.kwargs = kwargs\n",
    "        self.depends = depends\n",
    "        self.jobno = None"
   ]
  },
  {
   "cell_type": "code",
   "execution_count": 384,
   "metadata": {
    "collapsed": false
   },
   "outputs": [],
   "source": [
    "def job_runner(jobqueue, outputs, cores=1, jobno=1):\n",
    "    \"\"\"\n",
    "    jobs: [(command, args)]\n",
    "    outputs: {id: retval}\n",
    "    \"\"\"\n",
    "    import sys\n",
    "    def output(out):\n",
    "        \"\"\"Let's try and explicitly clear the dictionary before sending the output.\"\"\"\n",
    "        lastout = outputs.get() if not outputs.empty() else ''\n",
    "        if out == lastout:\n",
    "            return\n",
    "        while not outputs.empty():\n",
    "            # Clear the output object\n",
    "            outputs.get()\n",
    "        outputs.put(out)\n",
    "    \n",
    "    # Make sure we have Queue objects\n",
    "    if not isinstance(jobqueue, mp.queues.Queue) \\\n",
    "            or not isinstance(outputs, mp.queues.Queue):\n",
    "        raise ClusterError('jobqueue and outputs must be multiprocessing ' +\n",
    "                           'Queue objects')\n",
    "\n",
    "    jobno = int(jobno) if jobno else 1\n",
    "    jobno = jobno-1 if jobno is not 0 else 0\n",
    "    jobs = {}\n",
    "    runners = {}\n",
    "    started = []\n",
    "    done = []\n",
    "    pool = mp.Pool(cores)\n",
    "    \n",
    "    while True:\n",
    "        if not jobqueue.empty():\n",
    "            jobno += 1\n",
    "            job = jobqueue.get_nowait()\n",
    "            #function = job.function\n",
    "            #args = job.args\n",
    "            #depends = job.depends\n",
    "            function, args, depends = job\n",
    "            jobs[jobno] = {'func': function, 'args': args, 'kwargs': None, 'depends': depends, 'state': None, 'out': None}\n",
    "            output(jobs)\n",
    "        if jobs:\n",
    "            for jobno, job_info in jobs.items():\n",
    "                if job_info['state'] == 'done':\n",
    "                    continue\n",
    "                ready = True\n",
    "                if job_info['depends']:\n",
    "                    for depend in job_info['depends']:\n",
    "                        if not depend in done:\n",
    "                            ready = False\n",
    "                if ready and not jobno in started:\n",
    "                    \n",
    "                    if job_info['args'] and job_info['kwargs']:\n",
    "                        runners[jobno] = pool.apply_async(job_info['func'], (job_info['args'],), job_info['kwargs'])\n",
    "                    elif job_info['args']:\n",
    "                        runners[jobno] = pool.apply_async(job_info['func'], (job_info['args'],))\n",
    "                    elif job_info['kwargs']:\n",
    "                        runners[jobno] = pool.apply_async(job_info['func'], kwds=job_info['kwargs'])\n",
    "                    else:\n",
    "                        runners[jobno] = pool.apply_async(job_info['func'])\n",
    "                    job_info['state'] = 'started'\n",
    "                    started.append(jobno)\n",
    "                    output(jobs)\n",
    "                    sleep(0.5)  # Wait for a second to allow job to start\n",
    "                if job_info['state'] == 'started' and not jobno in done and runners[jobno].ready():\n",
    "                    job_info['out'] = runners[jobno].get()\n",
    "                    job_info['state'] = 'done'\n",
    "                    done.append(jobno)\n",
    "                    output(jobs)\n",
    "        sleep(0.5)"
   ]
  },
  {
   "cell_type": "code",
   "execution_count": 385,
   "metadata": {
    "collapsed": false
   },
   "outputs": [],
   "source": [
    "queue = mp.Queue()\n",
    "outqueue = mp.Queue()"
   ]
  },
  {
   "cell_type": "code",
   "execution_count": 386,
   "metadata": {
    "collapsed": false
   },
   "outputs": [],
   "source": [
    "runner = mp.Process(target=job_runner, args=(queue, outqueue))"
   ]
  },
  {
   "cell_type": "code",
   "execution_count": 387,
   "metadata": {
    "collapsed": false
   },
   "outputs": [],
   "source": [
    "runner.start()"
   ]
  },
  {
   "cell_type": "code",
   "execution_count": 388,
   "metadata": {
    "collapsed": false
   },
   "outputs": [
    {
     "data": {
      "text/plain": [
       "True"
      ]
     },
     "execution_count": 388,
     "metadata": {},
     "output_type": "execute_result"
    }
   ],
   "source": [
    "queue.empty()"
   ]
  },
  {
   "cell_type": "code",
   "execution_count": 389,
   "metadata": {
    "collapsed": false
   },
   "outputs": [
    {
     "data": {
      "text/plain": [
       "True"
      ]
     },
     "execution_count": 389,
     "metadata": {},
     "output_type": "execute_result"
    }
   ],
   "source": [
    "outqueue.empty()"
   ]
  },
  {
   "cell_type": "code",
   "execution_count": 390,
   "metadata": {
    "collapsed": false,
    "scrolled": true
   },
   "outputs": [
    {
     "data": {
      "text/plain": [
       "True"
      ]
     },
     "execution_count": 390,
     "metadata": {},
     "output_type": "execute_result"
    }
   ],
   "source": [
    "runner.is_alive()"
   ]
  },
  {
   "cell_type": "code",
   "execution_count": 391,
   "metadata": {
    "collapsed": true
   },
   "outputs": [],
   "source": [
    "myjobs = {}"
   ]
  },
  {
   "cell_type": "code",
   "execution_count": 392,
   "metadata": {
    "collapsed": false
   },
   "outputs": [],
   "source": [
    "queue.put([jon, 'wjonred', None])"
   ]
  },
  {
   "cell_type": "code",
   "execution_count": 393,
   "metadata": {
    "collapsed": false
   },
   "outputs": [],
   "source": [
    "myjobs = update_jobs(myjobs, outqueue)"
   ]
  },
  {
   "cell_type": "code",
   "execution_count": 394,
   "metadata": {
    "collapsed": false,
    "scrolled": true
   },
   "outputs": [
    {
     "data": {
      "text/plain": [
       "{1: {'args': 'wjonred',\n",
       "  'depends': None,\n",
       "  'func': <function __main__.jon>,\n",
       "  'kwargs': None,\n",
       "  'out': 'hi wjonred',\n",
       "  'state': 'done'}}"
      ]
     },
     "execution_count": 394,
     "metadata": {},
     "output_type": "execute_result"
    }
   ],
   "source": [
    "myjobs"
   ]
  },
  {
   "cell_type": "code",
   "execution_count": 395,
   "metadata": {
    "collapsed": false
   },
   "outputs": [
    {
     "data": {
      "text/plain": [
       "True"
      ]
     },
     "execution_count": 395,
     "metadata": {},
     "output_type": "execute_result"
    }
   ],
   "source": [
    "outqueue.empty()"
   ]
  },
  {
   "cell_type": "code",
   "execution_count": 396,
   "metadata": {
    "collapsed": true
   },
   "outputs": [],
   "source": [
    "queue.put((jon, 'bob', [4]))"
   ]
  },
  {
   "cell_type": "code",
   "execution_count": 397,
   "metadata": {
    "collapsed": false
   },
   "outputs": [],
   "source": [
    "queue.put((jon, 'joe', None))"
   ]
  },
  {
   "cell_type": "code",
   "execution_count": 398,
   "metadata": {
    "collapsed": false
   },
   "outputs": [
    {
     "data": {
      "text/plain": [
       "True"
      ]
     },
     "execution_count": 398,
     "metadata": {},
     "output_type": "execute_result"
    }
   ],
   "source": [
    "outqueue.empty()"
   ]
  },
  {
   "cell_type": "code",
   "execution_count": 399,
   "metadata": {
    "collapsed": false
   },
   "outputs": [
    {
     "data": {
      "text/plain": [
       "{1: {'args': 'wjonred',\n",
       "  'depends': None,\n",
       "  'func': <function __main__.jon>,\n",
       "  'kwargs': None,\n",
       "  'out': 'hi wjonred',\n",
       "  'state': 'done'},\n",
       " 2: {'args': 'bob',\n",
       "  'depends': [4],\n",
       "  'func': <function __main__.jon>,\n",
       "  'kwargs': None,\n",
       "  'out': None,\n",
       "  'state': None},\n",
       " 3: {'args': 'joe',\n",
       "  'depends': None,\n",
       "  'func': <function __main__.jon>,\n",
       "  'kwargs': None,\n",
       "  'out': 'hi joe',\n",
       "  'state': 'done'}}"
      ]
     },
     "execution_count": 399,
     "metadata": {},
     "output_type": "execute_result"
    }
   ],
   "source": [
    "myjobs = update_jobs(myjobs, outqueue)\n",
    "myjobs"
   ]
  },
  {
   "cell_type": "markdown",
   "metadata": {},
   "source": [
    "Note that job 2 has not executed because it is waiting for job 4, which has not run yet"
   ]
  },
  {
   "cell_type": "code",
   "execution_count": 400,
   "metadata": {
    "collapsed": true
   },
   "outputs": [],
   "source": [
    "queue.put([jon, 'done', None])"
   ]
  },
  {
   "cell_type": "code",
   "execution_count": 401,
   "metadata": {
    "collapsed": false
   },
   "outputs": [
    {
     "data": {
      "text/plain": [
       "{1: {'args': 'wjonred',\n",
       "  'depends': None,\n",
       "  'func': <function __main__.jon>,\n",
       "  'kwargs': None,\n",
       "  'out': 'hi wjonred',\n",
       "  'state': 'done'},\n",
       " 2: {'args': 'bob',\n",
       "  'depends': [4],\n",
       "  'func': <function __main__.jon>,\n",
       "  'kwargs': None,\n",
       "  'out': 'hi bob',\n",
       "  'state': 'done'},\n",
       " 3: {'args': 'joe',\n",
       "  'depends': None,\n",
       "  'func': <function __main__.jon>,\n",
       "  'kwargs': None,\n",
       "  'out': 'hi joe',\n",
       "  'state': 'done'},\n",
       " 4: {'args': 'done',\n",
       "  'depends': None,\n",
       "  'func': <function __main__.jon>,\n",
       "  'kwargs': None,\n",
       "  'out': 'hi done',\n",
       "  'state': 'done'}}"
      ]
     },
     "execution_count": 401,
     "metadata": {},
     "output_type": "execute_result"
    }
   ],
   "source": [
    "myjobs = update_jobs(myjobs, outqueue)\n",
    "myjobs"
   ]
  },
  {
   "cell_type": "code",
   "execution_count": 402,
   "metadata": {
    "collapsed": false,
    "scrolled": true
   },
   "outputs": [
    {
     "data": {
      "text/plain": [
       "True"
      ]
     },
     "execution_count": 402,
     "metadata": {},
     "output_type": "execute_result"
    }
   ],
   "source": [
    "runner.is_alive()"
   ]
  },
  {
   "cell_type": "code",
   "execution_count": 403,
   "metadata": {
    "collapsed": false
   },
   "outputs": [
    {
     "data": {
      "text/plain": [
       "True"
      ]
     },
     "execution_count": 403,
     "metadata": {},
     "output_type": "execute_result"
    }
   ],
   "source": [
    "outqueue.empty()"
   ]
  },
  {
   "cell_type": "code",
   "execution_count": 404,
   "metadata": {
    "collapsed": false,
    "scrolled": false
   },
   "outputs": [
    {
     "data": {
      "text/plain": [
       "{1: {'args': 'wjonred',\n",
       "  'depends': None,\n",
       "  'func': <function __main__.jon>,\n",
       "  'kwargs': None,\n",
       "  'out': 'hi wjonred',\n",
       "  'state': 'done'},\n",
       " 2: {'args': 'bob',\n",
       "  'depends': [4],\n",
       "  'func': <function __main__.jon>,\n",
       "  'kwargs': None,\n",
       "  'out': 'hi bob',\n",
       "  'state': 'done'},\n",
       " 3: {'args': 'joe',\n",
       "  'depends': None,\n",
       "  'func': <function __main__.jon>,\n",
       "  'kwargs': None,\n",
       "  'out': 'hi joe',\n",
       "  'state': 'done'},\n",
       " 4: {'args': 'done',\n",
       "  'depends': None,\n",
       "  'func': <function __main__.jon>,\n",
       "  'kwargs': None,\n",
       "  'out': 'hi done',\n",
       "  'state': 'done'}}"
      ]
     },
     "execution_count": 404,
     "metadata": {},
     "output_type": "execute_result"
    }
   ],
   "source": [
    "myjobs = update_jobs(myjobs, outqueue)\n",
    "myjobs"
   ]
  },
  {
   "cell_type": "markdown",
   "metadata": {},
   "source": [
    "Here is how to make a dependency queue with pool\n",
    "------------------------------------------------\n",
    "\n",
    "We have to sleep a lot in this script to allow the queue to update."
   ]
  },
  {
   "cell_type": "code",
   "execution_count": 2,
   "metadata": {
    "collapsed": false
   },
   "outputs": [],
   "source": [
    "def job_runner(cores, jobqueue, outputs):\n",
    "    \"\"\"\n",
    "    jobs: [(command, args)]\n",
    "    outputs: {id: retval}\n",
    "    \"\"\"\n",
    "    import sys\n",
    "    def output(out):\n",
    "        \"\"\"Let's try and explicitly clear the dictionary before sending the output.\"\"\"\n",
    "        lastout = outputs.get() if not outputs.empty() else ''\n",
    "        if out == lastout:\n",
    "            return\n",
    "        while not outputs.empty():\n",
    "            # Clear the output object\n",
    "            outputs.get()\n",
    "        outputs.put(out)\n",
    "    jobno = 0\n",
    "    jobs = {}\n",
    "    runners = {}\n",
    "    done = []\n",
    "    pool = mp.Pool(cores)\n",
    "    while True:\n",
    "        if not jobqueue.empty():\n",
    "            fun_args = jobqueue.get_nowait()\n",
    "            if len(fun_args) == 1:\n",
    "                function = fun_args[0]\n",
    "                args = None\n",
    "                depends = None\n",
    "            elif len(fun_args) == 2:\n",
    "                function, args = fun_args\n",
    "                depends = None\n",
    "            elif len(fun_args) == 3:\n",
    "                function, args, depends = fun_args\n",
    "            else:\n",
    "                continue\n",
    "            jobno += 1\n",
    "            jobs[jobno] = {'func': function, 'args': args, 'depends': depends, 'done': False, 'out': None,\n",
    "                           'started': False}\n",
    "            output(jobs)\n",
    "        if jobs:\n",
    "            for jobno, job_info in jobs.items():\n",
    "                if job_info['done']:\n",
    "                    continue\n",
    "                ready = True\n",
    "                if job_info['depends']:\n",
    "                    for depend in job_info['depends']:\n",
    "                        if not depend in done:\n",
    "                            ready = False\n",
    "                if ready and not job_info['started']:\n",
    "                    if job_info['args']:\n",
    "                        runners[jobno] = pool.apply_async(job_info['func'], (job_info['args'],))\n",
    "                    else:\n",
    "                        runners[jobno] = pool.apply_async(job_info['func'])\n",
    "                    job_info['started'] = True\n",
    "                    output(jobs)\n",
    "                    sleep(0.5)  # Wait for a second to allow job to start\n",
    "                if job_info['started'] and not job_info['done'] and runners[jobno].ready():\n",
    "                    job_info['out'] = runners[jobno].get()\n",
    "                    job_info['done'] = True\n",
    "                    done.append(jobno)\n",
    "                    output(jobs)\n",
    "                    #if job_info['depends']:\n",
    "                    #    outputs.put(jobs.copy())\n",
    "        sleep(0.5)"
   ]
  },
  {
   "cell_type": "code",
   "execution_count": 2,
   "metadata": {
    "collapsed": false
   },
   "outputs": [],
   "source": [
    "def update_jobs(jobdict, outqueue):\n",
    "    sleep(2)\n",
    "    while not outqueue.empty():    \n",
    "        jobdict.update(outqueue.get_nowait())\n",
    "    return jobdict"
   ]
  },
  {
   "cell_type": "code",
   "execution_count": 3,
   "metadata": {
    "collapsed": false
   },
   "outputs": [],
   "source": [
    "def jon(string='bob'):\n",
    "    return 'hi ' + string"
   ]
  },
  {
   "cell_type": "code",
   "execution_count": 5,
   "metadata": {
    "collapsed": false
   },
   "outputs": [],
   "source": [
    "queue = mp.Queue()\n",
    "outqueue = mp.Queue()"
   ]
  },
  {
   "cell_type": "code",
   "execution_count": 6,
   "metadata": {
    "collapsed": false
   },
   "outputs": [],
   "source": [
    "runner = mp.Process(target=job_runner, args=(3, queue, outqueue))"
   ]
  },
  {
   "cell_type": "code",
   "execution_count": 7,
   "metadata": {
    "collapsed": false
   },
   "outputs": [],
   "source": [
    "runner.start()"
   ]
  },
  {
   "cell_type": "code",
   "execution_count": 8,
   "metadata": {
    "collapsed": false
   },
   "outputs": [
    {
     "data": {
      "text/plain": [
       "True"
      ]
     },
     "execution_count": 8,
     "metadata": {},
     "output_type": "execute_result"
    }
   ],
   "source": [
    "queue.empty()"
   ]
  },
  {
   "cell_type": "code",
   "execution_count": 9,
   "metadata": {
    "collapsed": false
   },
   "outputs": [
    {
     "data": {
      "text/plain": [
       "True"
      ]
     },
     "execution_count": 9,
     "metadata": {},
     "output_type": "execute_result"
    }
   ],
   "source": [
    "outqueue.empty()"
   ]
  },
  {
   "cell_type": "code",
   "execution_count": 10,
   "metadata": {
    "collapsed": false,
    "scrolled": true
   },
   "outputs": [
    {
     "data": {
      "text/plain": [
       "True"
      ]
     },
     "execution_count": 10,
     "metadata": {},
     "output_type": "execute_result"
    }
   ],
   "source": [
    "runner.is_alive()"
   ]
  },
  {
   "cell_type": "code",
   "execution_count": 11,
   "metadata": {
    "collapsed": true
   },
   "outputs": [],
   "source": [
    "myjobs = {}"
   ]
  },
  {
   "cell_type": "code",
   "execution_count": 12,
   "metadata": {
    "collapsed": false
   },
   "outputs": [],
   "source": [
    "queue.put([jon, 'fred', None])"
   ]
  },
  {
   "cell_type": "code",
   "execution_count": 13,
   "metadata": {
    "collapsed": false
   },
   "outputs": [],
   "source": [
    "myjobs = update_jobs(myjobs, outqueue)"
   ]
  },
  {
   "cell_type": "code",
   "execution_count": 14,
   "metadata": {
    "collapsed": false,
    "scrolled": true
   },
   "outputs": [
    {
     "data": {
      "text/plain": [
       "{1: {'args': 'fred',\n",
       "  'depends': None,\n",
       "  'done': True,\n",
       "  'func': <function __main__.jon>,\n",
       "  'out': 'hi fred',\n",
       "  'started': True}}"
      ]
     },
     "execution_count": 14,
     "metadata": {},
     "output_type": "execute_result"
    }
   ],
   "source": [
    "myjobs"
   ]
  },
  {
   "cell_type": "code",
   "execution_count": 15,
   "metadata": {
    "collapsed": false
   },
   "outputs": [
    {
     "data": {
      "text/plain": [
       "True"
      ]
     },
     "execution_count": 15,
     "metadata": {},
     "output_type": "execute_result"
    }
   ],
   "source": [
    "outqueue.empty()"
   ]
  },
  {
   "cell_type": "code",
   "execution_count": 16,
   "metadata": {
    "collapsed": true
   },
   "outputs": [],
   "source": [
    "queue.put([jon, 'bob', [4]])"
   ]
  },
  {
   "cell_type": "code",
   "execution_count": 17,
   "metadata": {
    "collapsed": false
   },
   "outputs": [],
   "source": [
    "queue.put([jon, 'joe', None])"
   ]
  },
  {
   "cell_type": "code",
   "execution_count": 18,
   "metadata": {
    "collapsed": false
   },
   "outputs": [
    {
     "data": {
      "text/plain": [
       "True"
      ]
     },
     "execution_count": 18,
     "metadata": {},
     "output_type": "execute_result"
    }
   ],
   "source": [
    "outqueue.empty()"
   ]
  },
  {
   "cell_type": "code",
   "execution_count": 19,
   "metadata": {
    "collapsed": false
   },
   "outputs": [
    {
     "data": {
      "text/plain": [
       "{1: {'args': 'fred',\n",
       "  'depends': None,\n",
       "  'done': True,\n",
       "  'func': <function __main__.jon>,\n",
       "  'out': 'hi fred',\n",
       "  'started': True},\n",
       " 2: {'args': 'bob',\n",
       "  'depends': [4],\n",
       "  'done': False,\n",
       "  'func': <function __main__.jon>,\n",
       "  'out': None,\n",
       "  'started': False},\n",
       " 3: {'args': 'joe',\n",
       "  'depends': None,\n",
       "  'done': True,\n",
       "  'func': <function __main__.jon>,\n",
       "  'out': 'hi joe',\n",
       "  'started': True}}"
      ]
     },
     "execution_count": 19,
     "metadata": {},
     "output_type": "execute_result"
    }
   ],
   "source": [
    "myjobs = update_jobs(myjobs, outqueue)\n",
    "myjobs"
   ]
  },
  {
   "cell_type": "markdown",
   "metadata": {},
   "source": [
    "Note that job 2 has not executed because it is waiting for job 4, which has not run yet"
   ]
  },
  {
   "cell_type": "code",
   "execution_count": 20,
   "metadata": {
    "collapsed": true
   },
   "outputs": [],
   "source": [
    "queue.put([jon, 'done', None])"
   ]
  },
  {
   "cell_type": "code",
   "execution_count": 21,
   "metadata": {
    "collapsed": false
   },
   "outputs": [
    {
     "data": {
      "text/plain": [
       "{1: {'args': 'fred',\n",
       "  'depends': None,\n",
       "  'done': True,\n",
       "  'func': <function __main__.jon>,\n",
       "  'out': 'hi fred',\n",
       "  'started': True},\n",
       " 2: {'args': 'bob',\n",
       "  'depends': [4],\n",
       "  'done': True,\n",
       "  'func': <function __main__.jon>,\n",
       "  'out': 'hi bob',\n",
       "  'started': True},\n",
       " 3: {'args': 'joe',\n",
       "  'depends': None,\n",
       "  'done': True,\n",
       "  'func': <function __main__.jon>,\n",
       "  'out': 'hi joe',\n",
       "  'started': True},\n",
       " 4: {'args': 'done',\n",
       "  'depends': None,\n",
       "  'done': True,\n",
       "  'func': <function __main__.jon>,\n",
       "  'out': 'hi done',\n",
       "  'started': True}}"
      ]
     },
     "execution_count": 21,
     "metadata": {},
     "output_type": "execute_result"
    }
   ],
   "source": [
    "myjobs = update_jobs(myjobs, outqueue)\n",
    "myjobs"
   ]
  },
  {
   "cell_type": "code",
   "execution_count": 22,
   "metadata": {
    "collapsed": false,
    "scrolled": true
   },
   "outputs": [
    {
     "data": {
      "text/plain": [
       "True"
      ]
     },
     "execution_count": 22,
     "metadata": {},
     "output_type": "execute_result"
    }
   ],
   "source": [
    "runner.is_alive()"
   ]
  },
  {
   "cell_type": "code",
   "execution_count": 23,
   "metadata": {
    "collapsed": false
   },
   "outputs": [
    {
     "data": {
      "text/plain": [
       "True"
      ]
     },
     "execution_count": 23,
     "metadata": {},
     "output_type": "execute_result"
    }
   ],
   "source": [
    "outqueue.empty()"
   ]
  },
  {
   "cell_type": "code",
   "execution_count": 24,
   "metadata": {
    "collapsed": false,
    "scrolled": true
   },
   "outputs": [
    {
     "data": {
      "text/plain": [
       "{1: {'args': 'fred',\n",
       "  'depends': None,\n",
       "  'done': True,\n",
       "  'func': <function __main__.jon>,\n",
       "  'out': 'hi fred',\n",
       "  'started': True},\n",
       " 2: {'args': 'bob',\n",
       "  'depends': [4],\n",
       "  'done': True,\n",
       "  'func': <function __main__.jon>,\n",
       "  'out': 'hi bob',\n",
       "  'started': True},\n",
       " 3: {'args': 'joe',\n",
       "  'depends': None,\n",
       "  'done': True,\n",
       "  'func': <function __main__.jon>,\n",
       "  'out': 'hi joe',\n",
       "  'started': True},\n",
       " 4: {'args': 'done',\n",
       "  'depends': None,\n",
       "  'done': True,\n",
       "  'func': <function __main__.jon>,\n",
       "  'out': 'hi done',\n",
       "  'started': True}}"
      ]
     },
     "execution_count": 24,
     "metadata": {},
     "output_type": "execute_result"
    }
   ],
   "source": [
    "myjobs = update_jobs(myjobs, outqueue)\n",
    "myjobs"
   ]
  },
  {
   "cell_type": "markdown",
   "metadata": {},
   "source": [
    "Now job 2 and job 4 have both completed. Works perfectly.\n",
    "\n",
    "*Note*: It takes a long time for the function to run jobs, so a lot of sleeping is required."
   ]
  },
  {
   "cell_type": "markdown",
   "metadata": {},
   "source": [
    "Here is the same idea, but with no pool, it is simpler\n",
    "------------------------------------------------------"
   ]
  },
  {
   "cell_type": "code",
   "execution_count": 25,
   "metadata": {
    "collapsed": false
   },
   "outputs": [],
   "source": [
    "def job_runner(cores, jobqueue, outputs):\n",
    "    \"\"\"\n",
    "    jobs: [(command, args)]\n",
    "    outputs: {id: retval}\n",
    "    \"\"\"\n",
    "    import sys\n",
    "    def output(out):\n",
    "        \"\"\"Let's try and explicitly clear the dictionary before sending the output.\"\"\"\n",
    "        lastout = outputs.get() if not outputs.empty() else ''\n",
    "        if out == lastout:\n",
    "            return\n",
    "        sleep(0.5)\n",
    "        while not outputs.empty():\n",
    "            # Clear the output object\n",
    "            outputs.get()\n",
    "        outputs.put(out)\n",
    "    jobno = 0\n",
    "    jobs = {}\n",
    "    done = []\n",
    "    while True:\n",
    "        try:\n",
    "            fun_args = jobqueue.get_nowait()\n",
    "            if len(fun_args) == 1:\n",
    "                function = fun_args[0]\n",
    "                args = None\n",
    "                depends = None\n",
    "            elif len(fun_args) == 2:\n",
    "                function, args = fun_args\n",
    "                depends = None\n",
    "            elif len(fun_args) == 3:\n",
    "                function, args, depends = fun_args\n",
    "            else:\n",
    "                continue\n",
    "            jobno += 1\n",
    "            jobs[jobno] = {'func': function, 'args': args, 'depends': depends, 'done': False, 'out': None,\n",
    "                           'started': False}\n",
    "            output(jobs)\n",
    "        except Empty:\n",
    "            pass\n",
    "        if jobs:\n",
    "            for jobno, job_info in jobs.items():\n",
    "                if job_info['done']:\n",
    "                    continue\n",
    "                ready = True\n",
    "                if job_info['depends']:\n",
    "                    for depend in job_info['depends']:\n",
    "                        if not depend in done:\n",
    "                            ready = False\n",
    "                if ready:\n",
    "                    if job_info['args']:\n",
    "                        job_info['out'] = job_info['func'](job_info['args'])\n",
    "                    else:\n",
    "                        job_info['out'] = job_info['func']()\n",
    "                    job_info['started'] = True\n",
    "                    job_info['done'] = True\n",
    "                    done.append(jobno)\n",
    "                    if job_info['depends']:\n",
    "                        output(jobs)\n",
    "        sleep(1)"
   ]
  },
  {
   "cell_type": "code",
   "execution_count": 26,
   "metadata": {
    "collapsed": false
   },
   "outputs": [],
   "source": [
    "queue = mp.Queue()\n",
    "outqueue = mp.Queue()"
   ]
  },
  {
   "cell_type": "code",
   "execution_count": 27,
   "metadata": {
    "collapsed": false
   },
   "outputs": [],
   "source": [
    "runner = mp.Process(target=job_runner, args=(3, queue, outqueue))"
   ]
  },
  {
   "cell_type": "code",
   "execution_count": 28,
   "metadata": {
    "collapsed": false
   },
   "outputs": [],
   "source": [
    "runner.start()"
   ]
  },
  {
   "cell_type": "code",
   "execution_count": 29,
   "metadata": {
    "collapsed": false
   },
   "outputs": [
    {
     "data": {
      "text/plain": [
       "True"
      ]
     },
     "execution_count": 29,
     "metadata": {},
     "output_type": "execute_result"
    }
   ],
   "source": [
    "queue.empty()"
   ]
  },
  {
   "cell_type": "code",
   "execution_count": 30,
   "metadata": {
    "collapsed": false
   },
   "outputs": [
    {
     "data": {
      "text/plain": [
       "True"
      ]
     },
     "execution_count": 30,
     "metadata": {},
     "output_type": "execute_result"
    }
   ],
   "source": [
    "outqueue.empty()"
   ]
  },
  {
   "cell_type": "code",
   "execution_count": 31,
   "metadata": {
    "collapsed": false
   },
   "outputs": [
    {
     "data": {
      "text/plain": [
       "True"
      ]
     },
     "execution_count": 31,
     "metadata": {},
     "output_type": "execute_result"
    }
   ],
   "source": [
    "runner.is_alive()"
   ]
  },
  {
   "cell_type": "code",
   "execution_count": 32,
   "metadata": {
    "collapsed": true
   },
   "outputs": [],
   "source": [
    "myjobs = {}"
   ]
  },
  {
   "cell_type": "code",
   "execution_count": 33,
   "metadata": {
    "collapsed": true
   },
   "outputs": [],
   "source": [
    "queue.put([jon, 'fred', None])"
   ]
  },
  {
   "cell_type": "code",
   "execution_count": 34,
   "metadata": {
    "collapsed": false
   },
   "outputs": [],
   "source": [
    "myjobs = update_jobs(myjobs, outqueue)"
   ]
  },
  {
   "cell_type": "code",
   "execution_count": 35,
   "metadata": {
    "collapsed": false,
    "scrolled": false
   },
   "outputs": [
    {
     "data": {
      "text/plain": [
       "{1: {'args': 'fred',\n",
       "  'depends': None,\n",
       "  'done': True,\n",
       "  'func': <function __main__.jon>,\n",
       "  'out': 'hi fred',\n",
       "  'started': True}}"
      ]
     },
     "execution_count": 35,
     "metadata": {},
     "output_type": "execute_result"
    }
   ],
   "source": [
    "myjobs"
   ]
  },
  {
   "cell_type": "code",
   "execution_count": 36,
   "metadata": {
    "collapsed": false
   },
   "outputs": [
    {
     "data": {
      "text/plain": [
       "{1: {'args': 'fred',\n",
       "  'depends': None,\n",
       "  'done': True,\n",
       "  'func': <function __main__.jon>,\n",
       "  'out': 'hi fred',\n",
       "  'started': True}}"
      ]
     },
     "execution_count": 36,
     "metadata": {},
     "output_type": "execute_result"
    }
   ],
   "source": [
    "myjobs = update_jobs(myjobs, outqueue)\n",
    "myjobs"
   ]
  },
  {
   "cell_type": "code",
   "execution_count": 37,
   "metadata": {
    "collapsed": true
   },
   "outputs": [],
   "source": [
    "queue.put([jon, 'bob', [4]])"
   ]
  },
  {
   "cell_type": "code",
   "execution_count": 38,
   "metadata": {
    "collapsed": false
   },
   "outputs": [],
   "source": [
    "queue.put([jon, 'joe', None])"
   ]
  },
  {
   "cell_type": "code",
   "execution_count": 39,
   "metadata": {
    "collapsed": false
   },
   "outputs": [
    {
     "data": {
      "text/plain": [
       "{1: {'args': 'fred',\n",
       "  'depends': None,\n",
       "  'done': True,\n",
       "  'func': <function __main__.jon>,\n",
       "  'out': 'hi fred',\n",
       "  'started': True}}"
      ]
     },
     "execution_count": 39,
     "metadata": {},
     "output_type": "execute_result"
    }
   ],
   "source": [
    "myjobs = update_jobs(myjobs, outqueue)\n",
    "myjobs"
   ]
  },
  {
   "cell_type": "markdown",
   "metadata": {},
   "source": [
    "Note that the get command only gets the first dictionary in the stack, it needs to be run twice if two commands are put."
   ]
  },
  {
   "cell_type": "code",
   "execution_count": 40,
   "metadata": {
    "collapsed": false
   },
   "outputs": [
    {
     "data": {
      "text/plain": [
       "{1: {'args': 'fred',\n",
       "  'depends': None,\n",
       "  'done': True,\n",
       "  'func': <function __main__.jon>,\n",
       "  'out': 'hi fred',\n",
       "  'started': True},\n",
       " 2: {'args': 'bob',\n",
       "  'depends': [4],\n",
       "  'done': False,\n",
       "  'func': <function __main__.jon>,\n",
       "  'out': None,\n",
       "  'started': False},\n",
       " 3: {'args': 'joe',\n",
       "  'depends': None,\n",
       "  'done': True,\n",
       "  'func': <function __main__.jon>,\n",
       "  'out': 'hi joe',\n",
       "  'started': True}}"
      ]
     },
     "execution_count": 40,
     "metadata": {},
     "output_type": "execute_result"
    }
   ],
   "source": [
    "myjobs = update_jobs(myjobs, outqueue)\n",
    "myjobs"
   ]
  },
  {
   "cell_type": "code",
   "execution_count": 41,
   "metadata": {
    "collapsed": true
   },
   "outputs": [],
   "source": [
    "queue.put([jon, 'done', None])"
   ]
  },
  {
   "cell_type": "code",
   "execution_count": 42,
   "metadata": {
    "collapsed": false
   },
   "outputs": [
    {
     "data": {
      "text/plain": [
       "{1: {'args': 'fred',\n",
       "  'depends': None,\n",
       "  'done': True,\n",
       "  'func': <function __main__.jon>,\n",
       "  'out': 'hi fred',\n",
       "  'started': True},\n",
       " 2: {'args': 'bob',\n",
       "  'depends': [4],\n",
       "  'done': False,\n",
       "  'func': <function __main__.jon>,\n",
       "  'out': None,\n",
       "  'started': False},\n",
       " 3: {'args': 'joe',\n",
       "  'depends': None,\n",
       "  'done': True,\n",
       "  'func': <function __main__.jon>,\n",
       "  'out': 'hi joe',\n",
       "  'started': True}}"
      ]
     },
     "execution_count": 42,
     "metadata": {},
     "output_type": "execute_result"
    }
   ],
   "source": [
    "myjobs = update_jobs(myjobs, outqueue)\n",
    "myjobs"
   ]
  },
  {
   "cell_type": "markdown",
   "metadata": {},
   "source": [
    "Note that job 2 has not completed."
   ]
  },
  {
   "cell_type": "code",
   "execution_count": 43,
   "metadata": {
    "collapsed": false
   },
   "outputs": [
    {
     "data": {
      "text/plain": [
       "{1: {'args': 'fred',\n",
       "  'depends': None,\n",
       "  'done': True,\n",
       "  'func': <function __main__.jon>,\n",
       "  'out': 'hi fred',\n",
       "  'started': True},\n",
       " 2: {'args': 'bob',\n",
       "  'depends': [4],\n",
       "  'done': True,\n",
       "  'func': <function __main__.jon>,\n",
       "  'out': 'hi bob',\n",
       "  'started': True},\n",
       " 3: {'args': 'joe',\n",
       "  'depends': None,\n",
       "  'done': True,\n",
       "  'func': <function __main__.jon>,\n",
       "  'out': 'hi joe',\n",
       "  'started': True},\n",
       " 4: {'args': 'done',\n",
       "  'depends': None,\n",
       "  'done': True,\n",
       "  'func': <function __main__.jon>,\n",
       "  'out': 'hi done',\n",
       "  'started': True}}"
      ]
     },
     "execution_count": 43,
     "metadata": {},
     "output_type": "execute_result"
    }
   ],
   "source": [
    "myjobs = update_jobs(myjobs, outqueue)\n",
    "myjobs"
   ]
  },
  {
   "cell_type": "markdown",
   "metadata": {},
   "source": [
    "Now it has though, we needed to get it a second time, as one get only fetches one successful loop."
   ]
  },
  {
   "cell_type": "markdown",
   "metadata": {},
   "source": [
    "Here is an earlier Pool example that does not work, good example of issues with dictionary sharing\n",
    "=================================================================================================="
   ]
  },
  {
   "cell_type": "code",
   "execution_count": 44,
   "metadata": {
    "collapsed": false
   },
   "outputs": [],
   "source": [
    "def job_runner(cores, jobqueue, outputs):\n",
    "    \"\"\"\n",
    "    jobs: [(command, args)]\n",
    "    outputs: {id: retval}\n",
    "    \"\"\"\n",
    "    import sys\n",
    "    jobno = 0\n",
    "    jobs = {}\n",
    "    runners = {}\n",
    "    done = []\n",
    "    pool = mp.Pool()\n",
    "    while True:\n",
    "        try:\n",
    "            fun_args = jobqueue.get_nowait()\n",
    "            if len(fun_args) == 1:\n",
    "                function = fun_args[0]\n",
    "                args = None\n",
    "                depends = None\n",
    "            elif len(fun_args) == 2:\n",
    "                function, args = fun_args\n",
    "                depends = None\n",
    "            elif len(fun_args) == 3:\n",
    "                function, args, depends = fun_args\n",
    "            else:\n",
    "                continue\n",
    "            jobno += 1\n",
    "            jobs[jobno] = {'func': function, 'args': args, 'depends': depends, 'done': False, 'out': None,\n",
    "                           'started': False}\n",
    "            outputs.put(jobs.copy())\n",
    "        except Empty:\n",
    "            pass\n",
    "        if jobs:\n",
    "            for jobno, job_info in jobs.items():\n",
    "                if job_info['done']:\n",
    "                    continue\n",
    "                ready = True\n",
    "                if job_info['depends']:\n",
    "                    for depend in job_info['depends']:\n",
    "                        if not depend in done:\n",
    "                            ready = False\n",
    "                if ready:\n",
    "                    if job_info['args']:\n",
    "                        runners[jobno] = pool.apply_async(job_info['func'], (job_info['args'],))\n",
    "                    else:\n",
    "                        runners[jobno] = pool.apply_async(job_info['func'])\n",
    "                    job_info['started'] = True\n",
    "                if job_info['started'] and runners[jobno].ready():\n",
    "                    job_info['out'] = runners[jobno].join()\n",
    "                    job_info['done'] = True\n",
    "                    done.append(jobno)\n",
    "                    outputs.put(jobs.copy())\n",
    "                    #if job_info['depends']:\n",
    "                    #    outputs.put(jobs.copy())\n",
    "        sleep(1)"
   ]
  },
  {
   "cell_type": "code",
   "execution_count": 45,
   "metadata": {
    "collapsed": false
   },
   "outputs": [],
   "source": [
    "queue = mp.Queue()\n",
    "outqueue = mp.Queue()"
   ]
  },
  {
   "cell_type": "code",
   "execution_count": 46,
   "metadata": {
    "collapsed": false
   },
   "outputs": [],
   "source": [
    "runner = mp.Process(target=job_runner, args=(3, queue, outqueue))"
   ]
  },
  {
   "cell_type": "code",
   "execution_count": 47,
   "metadata": {
    "collapsed": false
   },
   "outputs": [],
   "source": [
    "runner.start()"
   ]
  },
  {
   "cell_type": "code",
   "execution_count": 48,
   "metadata": {
    "collapsed": false
   },
   "outputs": [
    {
     "data": {
      "text/plain": [
       "True"
      ]
     },
     "execution_count": 48,
     "metadata": {},
     "output_type": "execute_result"
    }
   ],
   "source": [
    "queue.empty()"
   ]
  },
  {
   "cell_type": "code",
   "execution_count": 49,
   "metadata": {
    "collapsed": false
   },
   "outputs": [
    {
     "data": {
      "text/plain": [
       "True"
      ]
     },
     "execution_count": 49,
     "metadata": {},
     "output_type": "execute_result"
    }
   ],
   "source": [
    "outqueue.empty()"
   ]
  },
  {
   "cell_type": "code",
   "execution_count": 50,
   "metadata": {
    "collapsed": false
   },
   "outputs": [
    {
     "data": {
      "text/plain": [
       "True"
      ]
     },
     "execution_count": 50,
     "metadata": {},
     "output_type": "execute_result"
    }
   ],
   "source": [
    "runner.is_alive()"
   ]
  },
  {
   "cell_type": "code",
   "execution_count": 51,
   "metadata": {
    "collapsed": true
   },
   "outputs": [],
   "source": [
    "queue.put([jon, 'fred', None])"
   ]
  },
  {
   "cell_type": "code",
   "execution_count": 52,
   "metadata": {
    "collapsed": false
   },
   "outputs": [],
   "source": [
    "outdict = {}"
   ]
  },
  {
   "cell_type": "code",
   "execution_count": 53,
   "metadata": {
    "collapsed": false
   },
   "outputs": [],
   "source": [
    "sleep(2)\n",
    "try:\n",
    "    j = outqueue.get_nowait()\n",
    "except Empty as e:\n",
    "    print(e)"
   ]
  },
  {
   "cell_type": "code",
   "execution_count": 54,
   "metadata": {
    "collapsed": false
   },
   "outputs": [
    {
     "data": {
      "text/plain": [
       "{1: {'args': 'fred',\n",
       "  'depends': None,\n",
       "  'done': False,\n",
       "  'func': <function __main__.jon>,\n",
       "  'out': None,\n",
       "  'started': True}}"
      ]
     },
     "execution_count": 54,
     "metadata": {},
     "output_type": "execute_result"
    }
   ],
   "source": [
    "j"
   ]
  },
  {
   "cell_type": "code",
   "execution_count": 55,
   "metadata": {
    "collapsed": false
   },
   "outputs": [],
   "source": [
    "if j:\n",
    "    outdict.update(j)"
   ]
  },
  {
   "cell_type": "code",
   "execution_count": 56,
   "metadata": {
    "collapsed": false
   },
   "outputs": [
    {
     "data": {
      "text/plain": [
       "{1: {'args': 'fred',\n",
       "  'depends': None,\n",
       "  'done': False,\n",
       "  'func': <function __main__.jon>,\n",
       "  'out': None,\n",
       "  'started': True}}"
      ]
     },
     "execution_count": 56,
     "metadata": {},
     "output_type": "execute_result"
    }
   ],
   "source": [
    "outdict"
   ]
  },
  {
   "cell_type": "markdown",
   "metadata": {},
   "source": [
    "Unexpected behavior\n",
    "-------------------\n",
    "\n",
    "That should have completed, but it didn't, let's try to get a second time to see if it worked yet."
   ]
  },
  {
   "cell_type": "code",
   "execution_count": 57,
   "metadata": {
    "collapsed": false
   },
   "outputs": [
    {
     "name": "stdout",
     "output_type": "stream",
     "text": [
      "\n"
     ]
    }
   ],
   "source": [
    "sleep(2)\n",
    "try:\n",
    "    j = outqueue.get_nowait()\n",
    "except Empty as e:\n",
    "    print(e)"
   ]
  },
  {
   "cell_type": "code",
   "execution_count": 58,
   "metadata": {
    "collapsed": false,
    "scrolled": true
   },
   "outputs": [
    {
     "data": {
      "text/plain": [
       "{1: {'args': 'fred',\n",
       "  'depends': None,\n",
       "  'done': False,\n",
       "  'func': <function __main__.jon>,\n",
       "  'out': None,\n",
       "  'started': True}}"
      ]
     },
     "execution_count": 58,
     "metadata": {},
     "output_type": "execute_result"
    }
   ],
   "source": [
    "j"
   ]
  },
  {
   "cell_type": "markdown",
   "metadata": {},
   "source": [
    "**Nope**\n",
    "Still isn't completing *why*?"
   ]
  },
  {
   "cell_type": "code",
   "execution_count": 59,
   "metadata": {
    "collapsed": true
   },
   "outputs": [],
   "source": [
    "queue.put([jon, 'bob', [4]])"
   ]
  },
  {
   "cell_type": "code",
   "execution_count": 60,
   "metadata": {
    "collapsed": false
   },
   "outputs": [],
   "source": [
    "queue.put([jon, 'joe', None])"
   ]
  },
  {
   "cell_type": "code",
   "execution_count": 61,
   "metadata": {
    "collapsed": false
   },
   "outputs": [],
   "source": [
    "sleep(1)\n",
    "j = outqueue.get_nowait()"
   ]
  },
  {
   "cell_type": "code",
   "execution_count": 62,
   "metadata": {
    "collapsed": false
   },
   "outputs": [],
   "source": [
    "if j:\n",
    "    outdict.update(j)"
   ]
  },
  {
   "cell_type": "code",
   "execution_count": 63,
   "metadata": {
    "collapsed": false
   },
   "outputs": [
    {
     "data": {
      "text/plain": [
       "{1: {'args': 'fred',\n",
       "  'depends': None,\n",
       "  'done': False,\n",
       "  'func': <function __main__.jon>,\n",
       "  'out': None,\n",
       "  'started': True},\n",
       " 2: {'args': 'bob',\n",
       "  'depends': [4],\n",
       "  'done': False,\n",
       "  'func': <function __main__.jon>,\n",
       "  'out': None,\n",
       "  'started': False}}"
      ]
     },
     "execution_count": 63,
     "metadata": {},
     "output_type": "execute_result"
    }
   ],
   "source": [
    "outdict"
   ]
  },
  {
   "cell_type": "markdown",
   "metadata": {},
   "source": [
    "It worked here once... but it isn't anymore. I am not sure why. Even after though, it was overwritten with the incomplete entry... maybe the dictionary copying is part of the issue?"
   ]
  },
  {
   "cell_type": "code",
   "execution_count": 64,
   "metadata": {
    "collapsed": false
   },
   "outputs": [],
   "source": [
    "sleep(2)\n",
    "j = outqueue.get_nowait()"
   ]
  },
  {
   "cell_type": "code",
   "execution_count": 65,
   "metadata": {
    "collapsed": false
   },
   "outputs": [],
   "source": [
    "if j:\n",
    "    outdict.update(j)"
   ]
  },
  {
   "cell_type": "code",
   "execution_count": 66,
   "metadata": {
    "collapsed": false
   },
   "outputs": [
    {
     "data": {
      "text/plain": [
       "{1: {'args': 'fred',\n",
       "  'depends': None,\n",
       "  'done': False,\n",
       "  'func': <function __main__.jon>,\n",
       "  'out': None,\n",
       "  'started': True},\n",
       " 2: {'args': 'bob',\n",
       "  'depends': [4],\n",
       "  'done': False,\n",
       "  'func': <function __main__.jon>,\n",
       "  'out': None,\n",
       "  'started': False},\n",
       " 3: {'args': 'joe',\n",
       "  'depends': None,\n",
       "  'done': False,\n",
       "  'func': <function __main__.jon>,\n",
       "  'out': None,\n",
       "  'started': True}}"
      ]
     },
     "execution_count": 66,
     "metadata": {},
     "output_type": "execute_result"
    }
   ],
   "source": [
    "outdict"
   ]
  },
  {
   "cell_type": "markdown",
   "metadata": {},
   "source": [
    "Unexpected behavior\n",
    "-------------------\n",
    "We have *reverted* back to the prior dictionary... the completed info for job 1 is gone."
   ]
  },
  {
   "cell_type": "code",
   "execution_count": 67,
   "metadata": {
    "collapsed": true
   },
   "outputs": [],
   "source": [
    "queue.put([jon, 'done', None])"
   ]
  },
  {
   "cell_type": "code",
   "execution_count": 68,
   "metadata": {
    "collapsed": false
   },
   "outputs": [],
   "source": [
    "sleep(2)\n",
    "j = outqueue.get_nowait()"
   ]
  },
  {
   "cell_type": "code",
   "execution_count": 69,
   "metadata": {
    "collapsed": false
   },
   "outputs": [],
   "source": [
    "if j:\n",
    "    outdict.update(j)"
   ]
  },
  {
   "cell_type": "code",
   "execution_count": 70,
   "metadata": {
    "collapsed": false,
    "scrolled": true
   },
   "outputs": [
    {
     "data": {
      "text/plain": [
       "{1: {'args': 'fred',\n",
       "  'depends': None,\n",
       "  'done': False,\n",
       "  'func': <function __main__.jon>,\n",
       "  'out': None,\n",
       "  'started': True},\n",
       " 2: {'args': 'bob',\n",
       "  'depends': [4],\n",
       "  'done': False,\n",
       "  'func': <function __main__.jon>,\n",
       "  'out': None,\n",
       "  'started': False},\n",
       " 3: {'args': 'joe',\n",
       "  'depends': None,\n",
       "  'done': False,\n",
       "  'func': <function __main__.jon>,\n",
       "  'out': None,\n",
       "  'started': True},\n",
       " 4: {'args': 'done',\n",
       "  'depends': None,\n",
       "  'done': False,\n",
       "  'func': <function __main__.jon>,\n",
       "  'out': None,\n",
       "  'started': True}}"
      ]
     },
     "execution_count": 70,
     "metadata": {},
     "output_type": "execute_result"
    }
   ],
   "source": [
    "outdict"
   ]
  },
  {
   "cell_type": "markdown",
   "metadata": {},
   "source": [
    "No jobs have completed now..."
   ]
  },
  {
   "cell_type": "code",
   "execution_count": 71,
   "metadata": {
    "collapsed": false,
    "scrolled": true
   },
   "outputs": [
    {
     "name": "stdout",
     "output_type": "stream",
     "text": [
      "Empty()\n"
     ]
    }
   ],
   "source": [
    "sleep(2)\n",
    "try:\n",
    "    j = outqueue.get_nowait()\n",
    "except Empty as e:\n",
    "    print(repr(e))"
   ]
  },
  {
   "cell_type": "code",
   "execution_count": 72,
   "metadata": {
    "collapsed": false,
    "scrolled": false
   },
   "outputs": [
    {
     "data": {
      "text/plain": [
       "{1: {'args': 'fred',\n",
       "  'depends': None,\n",
       "  'done': False,\n",
       "  'func': <function __main__.jon>,\n",
       "  'out': None,\n",
       "  'started': True},\n",
       " 2: {'args': 'bob',\n",
       "  'depends': [4],\n",
       "  'done': False,\n",
       "  'func': <function __main__.jon>,\n",
       "  'out': None,\n",
       "  'started': False},\n",
       " 3: {'args': 'joe',\n",
       "  'depends': None,\n",
       "  'done': False,\n",
       "  'func': <function __main__.jon>,\n",
       "  'out': None,\n",
       "  'started': True},\n",
       " 4: {'args': 'done',\n",
       "  'depends': None,\n",
       "  'done': False,\n",
       "  'func': <function __main__.jon>,\n",
       "  'out': None,\n",
       "  'started': True}}"
      ]
     },
     "execution_count": 72,
     "metadata": {},
     "output_type": "execute_result"
    }
   ],
   "source": [
    "j"
   ]
  },
  {
   "cell_type": "code",
   "execution_count": 73,
   "metadata": {
    "collapsed": false
   },
   "outputs": [
    {
     "ename": "NotImplementedError",
     "evalue": "",
     "output_type": "error",
     "traceback": [
      "\u001b[0;31m---------------------------------------------------------------------------\u001b[0m",
      "\u001b[0;31mNotImplementedError\u001b[0m                       Traceback (most recent call last)",
      "\u001b[0;32m<ipython-input-73-069b61adc484>\u001b[0m in \u001b[0;36m<module>\u001b[0;34m()\u001b[0m\n\u001b[0;32m----> 1\u001b[0;31m \u001b[0moutqueue\u001b[0m\u001b[0;34m.\u001b[0m\u001b[0mqsize\u001b[0m\u001b[0;34m(\u001b[0m\u001b[0;34m)\u001b[0m\u001b[0;34m\u001b[0m\u001b[0m\n\u001b[0m",
      "\u001b[0;32m/usr/local/Cellar/python3/3.5.1/Frameworks/Python.framework/Versions/3.5/lib/python3.5/multiprocessing/queues.py\u001b[0m in \u001b[0;36mqsize\u001b[0;34m(self)\u001b[0m\n\u001b[1;32m    115\u001b[0m     \u001b[0;32mdef\u001b[0m \u001b[0mqsize\u001b[0m\u001b[0;34m(\u001b[0m\u001b[0mself\u001b[0m\u001b[0;34m)\u001b[0m\u001b[0;34m:\u001b[0m\u001b[0;34m\u001b[0m\u001b[0m\n\u001b[1;32m    116\u001b[0m         \u001b[0;31m# Raises NotImplementedError on Mac OSX because of broken sem_getvalue()\u001b[0m\u001b[0;34m\u001b[0m\u001b[0;34m\u001b[0m\u001b[0m\n\u001b[0;32m--> 117\u001b[0;31m         \u001b[0;32mreturn\u001b[0m \u001b[0mself\u001b[0m\u001b[0;34m.\u001b[0m\u001b[0m_maxsize\u001b[0m \u001b[0;34m-\u001b[0m \u001b[0mself\u001b[0m\u001b[0;34m.\u001b[0m\u001b[0m_sem\u001b[0m\u001b[0;34m.\u001b[0m\u001b[0m_semlock\u001b[0m\u001b[0;34m.\u001b[0m\u001b[0m_get_value\u001b[0m\u001b[0;34m(\u001b[0m\u001b[0;34m)\u001b[0m\u001b[0;34m\u001b[0m\u001b[0m\n\u001b[0m\u001b[1;32m    118\u001b[0m \u001b[0;34m\u001b[0m\u001b[0m\n\u001b[1;32m    119\u001b[0m     \u001b[0;32mdef\u001b[0m \u001b[0mempty\u001b[0m\u001b[0;34m(\u001b[0m\u001b[0mself\u001b[0m\u001b[0;34m)\u001b[0m\u001b[0;34m:\u001b[0m\u001b[0;34m\u001b[0m\u001b[0m\n",
      "\u001b[0;31mNotImplementedError\u001b[0m: "
     ]
    }
   ],
   "source": [
    "outqueue.qsize()"
   ]
  },
  {
   "cell_type": "markdown",
   "metadata": {},
   "source": [
    "class Queue(object):\n",
    "       \n",
    "    def job_runner(pool, jobqueue, outputs):\n",
    "        \"\"\"\n",
    "        jobs: [(command, args)]\n",
    "        outputs: {id: retval}\n",
    "        \"\"\"\n",
    "        import sys\n",
    "        jobno = 0\n",
    "        outqueue = {}\n",
    "        jobs = {}\n",
    "        done = []\n",
    "        while True:\n",
    "            try:\n",
    "                fun_args = jobqueue.get_nowait()\n",
    "                function, args, depends \n",
    "                jobs[jobno] = {'func': function, 'args': args, 'depends': depends, 'done': False, 'out': None}\n",
    "                jobno += 1\n",
    "            except multiprocessing.Empty:\n",
    "                pass\n",
    "            if jobs:\n",
    "                for jobno, job_info in jobs.items():\n",
    "                    if job_info['depends']:\n",
    "                        ready = True\n",
    "                        for depend in depends:\n",
    "                            if not depend in done:\n",
    "                                ready = False\n",
    "                        if ready:\n",
    "                            job_info['out'] = job_info['func'](job_info['args'])\n",
    "                            job_info['done'] = True\n",
    "            output = function(args)\n",
    "            outputs.put(output)\n",
    "            sleep(1)\n",
    "            \n",
    "    def submit(self, func, args, depends):\n",
    "        pass\n",
    "        \n",
    "    def __init__(self):\n",
    "        self.queue = multiprocessing.Queue()\n",
    "        self.outqueue = multiprocessing.Queue()\n",
    "        self.pool = multiprocessing.Pool()\n",
    "        self.jobno = 0\n",
    "        self.jobs = {}\n",
    "        self.runner = multiprocessing.Process(target=job_runner, args=(self.pool, self.queue, self.outqueue))\n",
    "        "
   ]
  },
  {
   "cell_type": "code",
   "execution_count": null,
   "metadata": {
    "collapsed": true
   },
   "outputs": [],
   "source": []
  }
 ],
 "metadata": {
  "kernelspec": {
   "display_name": "Python 3",
   "language": "python",
   "name": "python3"
  },
  "language_info": {
   "codemirror_mode": {
    "name": "ipython",
    "version": 3
   },
   "file_extension": ".py",
   "mimetype": "text/x-python",
   "name": "python",
   "nbconvert_exporter": "python",
   "pygments_lexer": "ipython3",
   "version": "3.5.1"
  }
 },
 "nbformat": 4,
 "nbformat_minor": 0
}
